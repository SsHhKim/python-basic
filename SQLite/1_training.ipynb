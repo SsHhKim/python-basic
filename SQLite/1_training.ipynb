{
 "cells": [
  {
   "cell_type": "markdown",
   "metadata": {},
   "source": [
    "# SQLite3 훈련"
   ]
  },
  {
   "cell_type": "code",
   "execution_count": 1,
   "metadata": {},
   "outputs": [],
   "source": [
    "import sqlite3"
   ]
  },
  {
   "cell_type": "code",
   "execution_count": 3,
   "metadata": {},
   "outputs": [],
   "source": [
    "conn = sqlite3.connect('./test.DB')"
   ]
  },
  {
   "cell_type": "code",
   "execution_count": 4,
   "metadata": {},
   "outputs": [],
   "source": [
    "cur = conn.cursor()\n",
    "cur.execute('SELECT * FROM eagles')\n",
    "rows = cur.fetchall()"
   ]
  },
  {
   "cell_type": "code",
   "execution_count": 5,
   "metadata": {},
   "outputs": [
    {
     "data": {
      "text/plain": [
       "[(1, 22, '이태양', '투수'),\n",
       " (2, 13, '최재훈', '포수'),\n",
       " (3, 3, '노태형', '내야수'),\n",
       " (4, 19, '이용규', '외야수'),\n",
       " (5, 4, '조한민', '내야수'),\n",
       " (6, 6, '오선진', '내야수'),\n",
       " (7, 7, '송광민', '내야수'),\n",
       " (8, 8, '노시환', '내야수'),\n",
       " (9, 14, '강경학', '내야수'),\n",
       " (10, 16, '하주석', '내야수')]"
      ]
     },
     "execution_count": 5,
     "metadata": {},
     "output_type": "execute_result"
    }
   ],
   "source": [
    "rows"
   ]
  },
  {
   "cell_type": "code",
   "execution_count": 10,
   "metadata": {},
   "outputs": [
    {
     "name": "stdout",
     "output_type": "stream",
     "text": [
      "(3, 3, '노태형', '내야수')\n",
      "(5, 4, '조한민', '내야수')\n",
      "(6, 6, '오선진', '내야수')\n",
      "(7, 7, '송광민', '내야수')\n",
      "(8, 8, '노시환', '내야수')\n",
      "(9, 14, '강경학', '내야수')\n",
      "(10, 16, '하주석', '내야수')\n"
     ]
    }
   ],
   "source": [
    "cur.execute(\"SELECT * FROM eagles WHERE position='내야수'\")\n",
    "pitchers = cur.fetchall()\n",
    "for pitcher in pitchers :\n",
    "    print(pitcher)"
   ]
  },
  {
   "cell_type": "markdown",
   "metadata": {},
   "source": [
    "# 데이터 추가"
   ]
  },
  {
   "cell_type": "code",
   "execution_count": 20,
   "metadata": {},
   "outputs": [
    {
     "data": {
      "text/plain": [
       "<sqlite3.Cursor at 0x1de05388420>"
      ]
     },
     "execution_count": 20,
     "metadata": {},
     "output_type": "execute_result"
    }
   ],
   "source": [
    "cur.execute(\"INSERT INTO eagles(back_no, name, position) VALUES(30, '호잉', '외야수')\")"
   ]
  },
  {
   "cell_type": "code",
   "execution_count": 21,
   "metadata": {},
   "outputs": [],
   "source": [
    "# DB에 반영\n",
    "conn.commit()"
   ]
  },
  {
   "cell_type": "code",
   "execution_count": 22,
   "metadata": {},
   "outputs": [],
   "source": [
    "# 파라메터: 튜플을 사용해서 전달\n",
    "\n",
    "back_no = 25\n",
    "name = '최진행'\n",
    "position = '외야수'\n",
    "\n",
    "sql = 'INSERT INTO eagles(back_no, name, position) VALUES(?, ?, ?)'\n",
    "cur.execute(sql, (back_no, name, position))\n",
    "conn.commit()"
   ]
  },
  {
   "cell_type": "code",
   "execution_count": 23,
   "metadata": {},
   "outputs": [],
   "source": [
    "# 튜플 리스트 사용 ***********************************************************************\n",
    "\n",
    "players = [(38, '안영명', '투수'), (54, '서균', '투수')]\n",
    "for player in players :\n",
    "    cur.execute(sql, player)\n",
    "conn.commit()"
   ]
  },
  {
   "cell_type": "code",
   "execution_count": 24,
   "metadata": {},
   "outputs": [],
   "source": [
    "# executemany() 사용\n",
    "\n",
    "players = [(48, '벨', '투수'), (53, '김민우', '투수')]\n",
    "cur.executemany(sql, players)\n",
    "conn.commit()"
   ]
  },
  {
   "cell_type": "code",
   "execution_count": 25,
   "metadata": {},
   "outputs": [],
   "source": [
    "# 데이터 조회"
   ]
  },
  {
   "cell_type": "code",
   "execution_count": 26,
   "metadata": {},
   "outputs": [
    {
     "name": "stdout",
     "output_type": "stream",
     "text": [
      "(2, 13, '최재훈', '포수')\n"
     ]
    }
   ],
   "source": [
    "# 순회 조회\n",
    "\n",
    "sql = \"select * from eagles where position='포수'\"\n",
    "cur.execute(sql)\n",
    "for result in cur :\n",
    "    print(result)"
   ]
  },
  {
   "cell_type": "code",
   "execution_count": 27,
   "metadata": {},
   "outputs": [
    {
     "name": "stdout",
     "output_type": "stream",
     "text": [
      "(2, 13, '최재훈', '포수')\n"
     ]
    }
   ],
   "source": [
    "# 한 건 조회\n",
    "\n",
    "cur.execute(sql)\n",
    "result = cur.fetchone()\n",
    "print(result)"
   ]
  },
  {
   "cell_type": "code",
   "execution_count": 29,
   "metadata": {},
   "outputs": [
    {
     "name": "stdout",
     "output_type": "stream",
     "text": [
      "None\n"
     ]
    }
   ],
   "source": [
    "result = cur.fetchone()\n",
    "print(result)            # 한 건씩 순서대로 가져오는 애"
   ]
  },
  {
   "cell_type": "code",
   "execution_count": 34,
   "metadata": {},
   "outputs": [
    {
     "name": "stdout",
     "output_type": "stream",
     "text": [
      "[(1, 22, '이태양', '투수'), (13, 38, '안영명', '투수'), (14, 54, '서균', '투수')]\n"
     ]
    }
   ],
   "source": [
    "# 갯 수 지정 조회\n",
    "\n",
    "sql = \"select * from eagles where position='투수'\"\n",
    "cur.execute(sql)\n",
    "result = cur.fetchmany(3)\n",
    "print(result)"
   ]
  },
  {
   "cell_type": "code",
   "execution_count": 35,
   "metadata": {},
   "outputs": [
    {
     "data": {
      "text/plain": [
       "[(15, 48, '벨', '투수'), (16, 53, '김민우', '투수')]"
      ]
     },
     "execution_count": 35,
     "metadata": {},
     "output_type": "execute_result"
    }
   ],
   "source": [
    "# 전부 조회  ****************************************************************************\n",
    "# fetch가 이미 데이터를 튕겨냈기에 다음실행을 준비하고있음\n",
    "# 그상태로 all을 하면 나머지 전부를 출력한다.\n",
    "\n",
    "results = cur.fetchall()\n",
    "results"
   ]
  },
  {
   "cell_type": "code",
   "execution_count": 36,
   "metadata": {},
   "outputs": [
    {
     "name": "stdout",
     "output_type": "stream",
     "text": [
      "[(22, '이태양'), (30, '호잉'), (25, '최진행'), (38, '안영명'), (54, '서균'), (48, '벨'), (53, '김민우')]\n"
     ]
    }
   ],
   "source": [
    "# 필요한 컬럼만 조회\n",
    "\n",
    "sql = \"select back_no, name from eagles where back_no > 20\"\n",
    "cur.execute(sql)\n",
    "result = cur.fetchall()\n",
    "print(result)"
   ]
  },
  {
   "cell_type": "code",
   "execution_count": 37,
   "metadata": {},
   "outputs": [
    {
     "name": "stdout",
     "output_type": "stream",
     "text": [
      "[(22, '이태양'), (25, '최진행')]\n"
     ]
    }
   ],
   "source": [
    "# 백넘버가 20~29까지인 선수\n",
    "\n",
    "sql = \"select back_no, name from eagles where back_no between 20 and 29\"\n",
    "cur.execute(sql)\n",
    "result = cur.fetchall()\n",
    "print(result)"
   ]
  },
  {
   "cell_type": "code",
   "execution_count": 40,
   "metadata": {},
   "outputs": [
    {
     "name": "stdout",
     "output_type": "stream",
     "text": [
      "(14, 54, '서균', '투수')\n"
     ]
    }
   ],
   "source": [
    "# 백넘버가 가장 큰 번호를 갖는 선수는?\n",
    "\n",
    "sql = \"select * from eagles order by back_no desc limit 1\"\n",
    "cur.execute(sql)\n",
    "result = cur.fetchone()\n",
    "print(result)"
   ]
  },
  {
   "cell_type": "code",
   "execution_count": 41,
   "metadata": {},
   "outputs": [
    {
     "name": "stdout",
     "output_type": "stream",
     "text": [
      "[('내야수', 7), ('외야수', 3), ('투수', 5), ('포수', 1)]\n"
     ]
    }
   ],
   "source": [
    "# 포지션별 사람수\n",
    "\n",
    "sql = \"select position, count(*) from eagles group by position\"\n",
    "cur.execute(sql)\n",
    "result = cur.fetchall()\n",
    "print(result)"
   ]
  },
  {
   "cell_type": "markdown",
   "metadata": {},
   "source": [
    "# 데이터 검색"
   ]
  },
  {
   "cell_type": "code",
   "execution_count": 45,
   "metadata": {},
   "outputs": [
    {
     "ename": "ValueError",
     "evalue": "parameters are of unsupported type",
     "output_type": "error",
     "traceback": [
      "\u001b[1;31m---------------------------------------------------------------------------\u001b[0m",
      "\u001b[1;31mValueError\u001b[0m                                Traceback (most recent call last)",
      "\u001b[1;32m<ipython-input-45-03fbd12b4666>\u001b[0m in \u001b[0;36m<module>\u001b[1;34m\u001b[0m\n\u001b[0;32m      3\u001b[0m \u001b[0mback_no\u001b[0m \u001b[1;33m=\u001b[0m \u001b[1;36m54\u001b[0m\u001b[1;33m\u001b[0m\u001b[1;33m\u001b[0m\u001b[0m\n\u001b[0;32m      4\u001b[0m \u001b[0msql\u001b[0m \u001b[1;33m=\u001b[0m \u001b[1;34m\"select * from eagles where back_no = ?\"\u001b[0m\u001b[1;33m\u001b[0m\u001b[1;33m\u001b[0m\u001b[0m\n\u001b[1;32m----> 5\u001b[1;33m \u001b[0mcur\u001b[0m\u001b[1;33m.\u001b[0m\u001b[0mexecute\u001b[0m\u001b[1;33m(\u001b[0m\u001b[0msql\u001b[0m\u001b[1;33m,\u001b[0m \u001b[0mback_no\u001b[0m\u001b[1;33m)\u001b[0m        \u001b[1;31m# 데이터 하나라도 튜플'()'로 만들어서 넣어야함\u001b[0m\u001b[1;33m\u001b[0m\u001b[1;33m\u001b[0m\u001b[0m\n\u001b[0m\u001b[0;32m      6\u001b[0m \u001b[0mresult\u001b[0m \u001b[1;33m=\u001b[0m \u001b[0mcur\u001b[0m\u001b[1;33m.\u001b[0m\u001b[0mfetchone\u001b[0m\u001b[1;33m(\u001b[0m\u001b[1;33m)\u001b[0m\u001b[1;33m\u001b[0m\u001b[1;33m\u001b[0m\u001b[0m\n\u001b[0;32m      7\u001b[0m \u001b[0mprint\u001b[0m\u001b[1;33m(\u001b[0m\u001b[0mresult\u001b[0m\u001b[1;33m)\u001b[0m\u001b[1;33m\u001b[0m\u001b[1;33m\u001b[0m\u001b[0m\n",
      "\u001b[1;31mValueError\u001b[0m: parameters are of unsupported type"
     ]
    }
   ],
   "source": [
    "# back_no가 54번인 선수는?\n",
    "\n",
    "back_no = 54\n",
    "sql = \"select * from eagles where back_no = ?\"\n",
    "cur.execute(sql, back_no)        # 데이터 하나라도 튜플'()'로 만들어서 넣어야함\n",
    "result = cur.fetchone()\n",
    "print(result)"
   ]
  },
  {
   "cell_type": "code",
   "execution_count": 46,
   "metadata": {},
   "outputs": [
    {
     "name": "stdout",
     "output_type": "stream",
     "text": [
      "(14, 54, '서균', '투수')\n"
     ]
    }
   ],
   "source": [
    "cur.execute(sql, (back_no,))        # 데이터 하나라도 튜플'()'로 만들어서 넣어야함\n",
    "result = cur.fetchone()\n",
    "print(result)"
   ]
  },
  {
   "cell_type": "markdown",
   "metadata": {},
   "source": [
    "# 데이터 변경"
   ]
  },
  {
   "cell_type": "code",
   "execution_count": 50,
   "metadata": {},
   "outputs": [],
   "source": [
    "# id가 10인 하주석 선수의 포지션을 외야수로 변경\n",
    "\n",
    "id_ = 10\n",
    "position = '외야수'\n",
    "sql = 'UPDATE eagles SET position = ? WHERE id = ?'\n",
    "cur.execute(sql, (position, id_))\n",
    "conn.commit()"
   ]
  },
  {
   "cell_type": "markdown",
   "metadata": {},
   "source": [
    "# 데이터 삭제"
   ]
  },
  {
   "cell_type": "code",
   "execution_count": 53,
   "metadata": {},
   "outputs": [],
   "source": [
    "sql = 'DELETE FROM eagles WHERE id = ?'\n",
    "cur.execute(sql, (id_, ))\n",
    "conn.commit()"
   ]
  },
  {
   "cell_type": "code",
   "execution_count": null,
   "metadata": {},
   "outputs": [],
   "source": []
  }
 ],
 "metadata": {
  "kernelspec": {
   "display_name": "Python 3",
   "language": "python",
   "name": "python3"
  },
  "language_info": {
   "codemirror_mode": {
    "name": "ipython",
    "version": 3
   },
   "file_extension": ".py",
   "mimetype": "text/x-python",
   "name": "python",
   "nbconvert_exporter": "python",
   "pygments_lexer": "ipython3",
   "version": "3.7.6"
  }
 },
 "nbformat": 4,
 "nbformat_minor": 4
}
