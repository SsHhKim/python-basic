{
 "cells": [
  {
   "cell_type": "code",
   "execution_count": 3,
   "metadata": {},
   "outputs": [],
   "source": [
    "import pandas as pd"
   ]
  },
  {
   "cell_type": "code",
   "execution_count": 4,
   "metadata": {},
   "outputs": [],
   "source": [
    "import sqlite3"
   ]
  },
  {
   "cell_type": "code",
   "execution_count": 5,
   "metadata": {},
   "outputs": [],
   "source": [
    "conn = sqlite3.connect('./test.DB')"
   ]
  },
  {
   "cell_type": "code",
   "execution_count": 6,
   "metadata": {},
   "outputs": [],
   "source": [
    "cur = conn.cursor()\n",
    "cur.execute('SELECT * FROM idol')\n",
    "rows = cur.fetchall()"
   ]
  },
  {
   "cell_type": "code",
   "execution_count": 7,
   "metadata": {},
   "outputs": [
    {
     "data": {
      "text/plain": [
       "[(1, '우주소녀', '10명', '2016년 2월 25일', '스타쉽'),\n",
       " (2, '오마이걸', '7명', '2015년 4월 21일', 'WM'),\n",
       " (3, '마마무', '4명', '2014년 6월 19일', 'RBW'),\n",
       " (4, '드림캐쳐', '7명', '2017년 1월 13일', '드림캐처컴퍼니'),\n",
       " (5, '모모랜드', '9명', '2016년 11월 10일', 'MLD')]"
      ]
     },
     "execution_count": 7,
     "metadata": {},
     "output_type": "execute_result"
    }
   ],
   "source": [
    "rows"
   ]
  },
  {
   "cell_type": "code",
   "execution_count": 8,
   "metadata": {},
   "outputs": [],
   "source": [
    "cur.execute('SELECT * FROM idol_song')\n",
    "rowss = cur.fetchall()"
   ]
  },
  {
   "cell_type": "code",
   "execution_count": 9,
   "metadata": {},
   "outputs": [
    {
     "data": {
      "text/plain": [
       "[(1,\n",
       "  '이루리',\n",
       "  '우주소녀',\n",
       "  '2019년',\n",
       "  'KZ,Nthonius,비오(B.O.)',\n",
       "  'As you wish Everything you wanted...'),\n",
       " (2,\n",
       "  'ICY',\n",
       "  'ITZY',\n",
       "  '2019년',\n",
       "  '박진영,페노메코(PENOMECO)',\n",
       "  '차갑게 보여도 어떡해 Cool한 나니까 눈치 볼 마음 없어 Oh\\r\\nCome on...'),\n",
       " (3,\n",
       "  'HIP',\n",
       "  '마마무',\n",
       "  '2019년',\n",
       "  '김도훈(RBW),박우상(RBW),화사(Hwa Sa)',\n",
       "  'All I wanna be is 멋짐 내 마음대로 골라 kick it 머리 어깨 무릎 다 HIP 해...'),\n",
       " (4,\n",
       "  'TT',\n",
       "  '트와이스',\n",
       "  '2016년',\n",
       "  '블랙아이드필승,최규성,Rado',\n",
       "  '이러지도 못하는데 저러지도 못하네 그저 바라보며 ba-ba-ba-baby...'),\n",
       " (5,\n",
       "  '휘파람',\n",
       "  '블랙핑크',\n",
       "  '2016년',\n",
       "  'TEDDY,FUTURE BOUNCE,Rebecca Johnson',\n",
       "  'Hey boy Make’ em whistle like a missile bomb bomb Every time I show up blow up (uh)...'),\n",
       " (6,\n",
       "  'Thumbs Up',\n",
       "  '모모랜드',\n",
       "  '2019년',\n",
       "  '이단옆차기, Bull$EyE(불스아이), Ondine, De view, 김도다리',\n",
       "  '왜 눈만 뜨면 늘어나니 저 빨간색의 LOVE 내 핸드폰은 멈추지 않아 하루종일을 Beep beep beep beep...'),\n",
       " (7,\n",
       "  'BUTTERFLY',\n",
       "  '우주소녀',\n",
       "  '2020년',\n",
       "  '별들의전쟁 * (Galactika *),아테나(GALACTIKA *),우빈(GALACTIKA *)',\n",
       "  '까칠한 말투에 차가운 무표정이 도도하고 때론 낯설대 보이는 게 전부가 아닌데...'),\n",
       " (8,\n",
       "  'What',\n",
       "  '드림캐쳐',\n",
       "  '2018년',\n",
       "  '김희원, 타스코, 위더베스트',\n",
       "  '깨어나지 못한 깊어진 Lucid Dream 덫에 걸려버린 지금 꿈속에서...'),\n",
       " (9,\n",
       "  '비밀이야 (Secret)',\n",
       "  '우주소녀',\n",
       "  '2016년',\n",
       "  'e.one',\n",
       "  '밤새 뒤척 뒤척이다가 나 괜히 맘이 그래 지끈 지끈해져 나 oh...'),\n",
       " (10,\n",
       "  'Holiday',\n",
       "  '소녀시대',\n",
       "  '2017년',\n",
       "  'Lawrence Lee, Louise Frick Sveen, Märta Grauers',\n",
       "  'I’m feeling good 이날을 기다려왔어 처음 만난 그 순간처럼 다시 만난 너와 나...')]"
      ]
     },
     "execution_count": 9,
     "metadata": {},
     "output_type": "execute_result"
    }
   ],
   "source": [
    "rowss"
   ]
  },
  {
   "cell_type": "code",
   "execution_count": 10,
   "metadata": {},
   "outputs": [
    {
     "data": {
      "text/plain": [
       "[('우주소녀', '10명', '2016년 2월 25일', 'BUTTERFLY', '2020년'),\n",
       " ('우주소녀', '10명', '2016년 2월 25일', '비밀이야 (Secret)', '2016년'),\n",
       " ('우주소녀', '10명', '2016년 2월 25일', '이루리', '2019년'),\n",
       " ('마마무', '4명', '2014년 6월 19일', 'HIP', '2019년'),\n",
       " ('드림캐쳐', '7명', '2017년 1월 13일', 'What', '2018년'),\n",
       " ('모모랜드', '9명', '2016년 11월 10일', 'Thumbs Up', '2019년')]"
      ]
     },
     "execution_count": 10,
     "metadata": {},
     "output_type": "execute_result"
    }
   ],
   "source": [
    "sql =\" SELECT idol.group_name,\\\n",
    "    idol.구성원, idol.데뷔일자,\\\n",
    "    idol_song.song_name,\\\n",
    "    idol_song.발표년도\\\n",
    "    FROM idol INNER JOIN idol_song\\\n",
    "    ON idol.group_name= idol_song.그룹\"\n",
    "cur.execute(sql)\n",
    "result = cur.fetchall()\n",
    "result"
   ]
  },
  {
   "cell_type": "code",
   "execution_count": 11,
   "metadata": {},
   "outputs": [],
   "source": [
    "conn.commit()"
   ]
  },
  {
   "cell_type": "code",
   "execution_count": 12,
   "metadata": {},
   "outputs": [
    {
     "data": {
      "text/html": [
       "<div>\n",
       "<style scoped>\n",
       "    .dataframe tbody tr th:only-of-type {\n",
       "        vertical-align: middle;\n",
       "    }\n",
       "\n",
       "    .dataframe tbody tr th {\n",
       "        vertical-align: top;\n",
       "    }\n",
       "\n",
       "    .dataframe thead th {\n",
       "        text-align: right;\n",
       "    }\n",
       "</style>\n",
       "<table border=\"1\" class=\"dataframe\">\n",
       "  <thead>\n",
       "    <tr style=\"text-align: right;\">\n",
       "      <th></th>\n",
       "      <th>0</th>\n",
       "      <th>1</th>\n",
       "      <th>2</th>\n",
       "      <th>3</th>\n",
       "      <th>4</th>\n",
       "    </tr>\n",
       "  </thead>\n",
       "  <tbody>\n",
       "    <tr>\n",
       "      <th>0</th>\n",
       "      <td>우주소녀</td>\n",
       "      <td>10명</td>\n",
       "      <td>2016년 2월 25일</td>\n",
       "      <td>BUTTERFLY</td>\n",
       "      <td>2020년</td>\n",
       "    </tr>\n",
       "    <tr>\n",
       "      <th>1</th>\n",
       "      <td>우주소녀</td>\n",
       "      <td>10명</td>\n",
       "      <td>2016년 2월 25일</td>\n",
       "      <td>비밀이야 (Secret)</td>\n",
       "      <td>2016년</td>\n",
       "    </tr>\n",
       "    <tr>\n",
       "      <th>2</th>\n",
       "      <td>우주소녀</td>\n",
       "      <td>10명</td>\n",
       "      <td>2016년 2월 25일</td>\n",
       "      <td>이루리</td>\n",
       "      <td>2019년</td>\n",
       "    </tr>\n",
       "    <tr>\n",
       "      <th>3</th>\n",
       "      <td>마마무</td>\n",
       "      <td>4명</td>\n",
       "      <td>2014년 6월 19일</td>\n",
       "      <td>HIP</td>\n",
       "      <td>2019년</td>\n",
       "    </tr>\n",
       "    <tr>\n",
       "      <th>4</th>\n",
       "      <td>드림캐쳐</td>\n",
       "      <td>7명</td>\n",
       "      <td>2017년 1월 13일</td>\n",
       "      <td>What</td>\n",
       "      <td>2018년</td>\n",
       "    </tr>\n",
       "    <tr>\n",
       "      <th>5</th>\n",
       "      <td>모모랜드</td>\n",
       "      <td>9명</td>\n",
       "      <td>2016년 11월 10일</td>\n",
       "      <td>Thumbs Up</td>\n",
       "      <td>2019년</td>\n",
       "    </tr>\n",
       "  </tbody>\n",
       "</table>\n",
       "</div>"
      ],
      "text/plain": [
       "      0    1              2              3      4\n",
       "0  우주소녀  10명   2016년 2월 25일      BUTTERFLY  2020년\n",
       "1  우주소녀  10명   2016년 2월 25일  비밀이야 (Secret)  2016년\n",
       "2  우주소녀  10명   2016년 2월 25일            이루리  2019년\n",
       "3   마마무   4명   2014년 6월 19일            HIP  2019년\n",
       "4  드림캐쳐   7명   2017년 1월 13일           What  2018년\n",
       "5  모모랜드   9명  2016년 11월 10일      Thumbs Up  2019년"
      ]
     },
     "execution_count": 12,
     "metadata": {},
     "output_type": "execute_result"
    }
   ],
   "source": [
    "df = pd.DataFrame(result)\n",
    "df"
   ]
  },
  {
   "cell_type": "code",
   "execution_count": 13,
   "metadata": {},
   "outputs": [
    {
     "data": {
      "text/html": [
       "<div>\n",
       "<style scoped>\n",
       "    .dataframe tbody tr th:only-of-type {\n",
       "        vertical-align: middle;\n",
       "    }\n",
       "\n",
       "    .dataframe tbody tr th {\n",
       "        vertical-align: top;\n",
       "    }\n",
       "\n",
       "    .dataframe thead th {\n",
       "        text-align: right;\n",
       "    }\n",
       "</style>\n",
       "<table border=\"1\" class=\"dataframe\">\n",
       "  <thead>\n",
       "    <tr style=\"text-align: right;\">\n",
       "      <th></th>\n",
       "      <th>그룹 이름</th>\n",
       "      <th>구성원 수</th>\n",
       "      <th>데뷔 일자</th>\n",
       "      <th>노래 이름</th>\n",
       "      <th>발표 년도</th>\n",
       "    </tr>\n",
       "  </thead>\n",
       "  <tbody>\n",
       "    <tr>\n",
       "      <th>0</th>\n",
       "      <td>우주소녀</td>\n",
       "      <td>10명</td>\n",
       "      <td>2016년 2월 25일</td>\n",
       "      <td>BUTTERFLY</td>\n",
       "      <td>2020년</td>\n",
       "    </tr>\n",
       "    <tr>\n",
       "      <th>1</th>\n",
       "      <td>우주소녀</td>\n",
       "      <td>10명</td>\n",
       "      <td>2016년 2월 25일</td>\n",
       "      <td>비밀이야 (Secret)</td>\n",
       "      <td>2016년</td>\n",
       "    </tr>\n",
       "    <tr>\n",
       "      <th>2</th>\n",
       "      <td>우주소녀</td>\n",
       "      <td>10명</td>\n",
       "      <td>2016년 2월 25일</td>\n",
       "      <td>이루리</td>\n",
       "      <td>2019년</td>\n",
       "    </tr>\n",
       "    <tr>\n",
       "      <th>3</th>\n",
       "      <td>마마무</td>\n",
       "      <td>4명</td>\n",
       "      <td>2014년 6월 19일</td>\n",
       "      <td>HIP</td>\n",
       "      <td>2019년</td>\n",
       "    </tr>\n",
       "    <tr>\n",
       "      <th>4</th>\n",
       "      <td>드림캐쳐</td>\n",
       "      <td>7명</td>\n",
       "      <td>2017년 1월 13일</td>\n",
       "      <td>What</td>\n",
       "      <td>2018년</td>\n",
       "    </tr>\n",
       "    <tr>\n",
       "      <th>5</th>\n",
       "      <td>모모랜드</td>\n",
       "      <td>9명</td>\n",
       "      <td>2016년 11월 10일</td>\n",
       "      <td>Thumbs Up</td>\n",
       "      <td>2019년</td>\n",
       "    </tr>\n",
       "  </tbody>\n",
       "</table>\n",
       "</div>"
      ],
      "text/plain": [
       "  그룹 이름 구성원 수          데뷔 일자          노래 이름  발표 년도\n",
       "0  우주소녀   10명   2016년 2월 25일      BUTTERFLY  2020년\n",
       "1  우주소녀   10명   2016년 2월 25일  비밀이야 (Secret)  2016년\n",
       "2  우주소녀   10명   2016년 2월 25일            이루리  2019년\n",
       "3   마마무    4명   2014년 6월 19일            HIP  2019년\n",
       "4  드림캐쳐    7명   2017년 1월 13일           What  2018년\n",
       "5  모모랜드    9명  2016년 11월 10일      Thumbs Up  2019년"
      ]
     },
     "execution_count": 13,
     "metadata": {},
     "output_type": "execute_result"
    }
   ],
   "source": [
    "df = pd.DataFrame(result, columns=['그룹 이름', '구성원 수', '데뷔 일자', '노래 이름', '발표 년도'])\n",
    "df"
   ]
  },
  {
   "cell_type": "code",
   "execution_count": 14,
   "metadata": {},
   "outputs": [
    {
     "data": {
      "text/html": [
       "<div>\n",
       "<style scoped>\n",
       "    .dataframe tbody tr th:only-of-type {\n",
       "        vertical-align: middle;\n",
       "    }\n",
       "\n",
       "    .dataframe tbody tr th {\n",
       "        vertical-align: top;\n",
       "    }\n",
       "\n",
       "    .dataframe thead th {\n",
       "        text-align: right;\n",
       "    }\n",
       "</style>\n",
       "<table border=\"1\" class=\"dataframe\">\n",
       "  <thead>\n",
       "    <tr style=\"text-align: right;\">\n",
       "      <th></th>\n",
       "      <th>구성원 수</th>\n",
       "      <th>데뷔 일자</th>\n",
       "      <th>노래 이름</th>\n",
       "      <th>발표 년도</th>\n",
       "    </tr>\n",
       "    <tr>\n",
       "      <th>그룹 이름</th>\n",
       "      <th></th>\n",
       "      <th></th>\n",
       "      <th></th>\n",
       "      <th></th>\n",
       "    </tr>\n",
       "  </thead>\n",
       "  <tbody>\n",
       "    <tr>\n",
       "      <th>우주소녀</th>\n",
       "      <td>10명</td>\n",
       "      <td>2016년 2월 25일</td>\n",
       "      <td>BUTTERFLY</td>\n",
       "      <td>2020년</td>\n",
       "    </tr>\n",
       "    <tr>\n",
       "      <th>우주소녀</th>\n",
       "      <td>10명</td>\n",
       "      <td>2016년 2월 25일</td>\n",
       "      <td>비밀이야 (Secret)</td>\n",
       "      <td>2016년</td>\n",
       "    </tr>\n",
       "    <tr>\n",
       "      <th>우주소녀</th>\n",
       "      <td>10명</td>\n",
       "      <td>2016년 2월 25일</td>\n",
       "      <td>이루리</td>\n",
       "      <td>2019년</td>\n",
       "    </tr>\n",
       "    <tr>\n",
       "      <th>마마무</th>\n",
       "      <td>4명</td>\n",
       "      <td>2014년 6월 19일</td>\n",
       "      <td>HIP</td>\n",
       "      <td>2019년</td>\n",
       "    </tr>\n",
       "    <tr>\n",
       "      <th>드림캐쳐</th>\n",
       "      <td>7명</td>\n",
       "      <td>2017년 1월 13일</td>\n",
       "      <td>What</td>\n",
       "      <td>2018년</td>\n",
       "    </tr>\n",
       "    <tr>\n",
       "      <th>모모랜드</th>\n",
       "      <td>9명</td>\n",
       "      <td>2016년 11월 10일</td>\n",
       "      <td>Thumbs Up</td>\n",
       "      <td>2019년</td>\n",
       "    </tr>\n",
       "  </tbody>\n",
       "</table>\n",
       "</div>"
      ],
      "text/plain": [
       "      구성원 수          데뷔 일자          노래 이름  발표 년도\n",
       "그룹 이름                                           \n",
       "우주소녀    10명   2016년 2월 25일      BUTTERFLY  2020년\n",
       "우주소녀    10명   2016년 2월 25일  비밀이야 (Secret)  2016년\n",
       "우주소녀    10명   2016년 2월 25일            이루리  2019년\n",
       "마마무      4명   2014년 6월 19일            HIP  2019년\n",
       "드림캐쳐     7명   2017년 1월 13일           What  2018년\n",
       "모모랜드     9명  2016년 11월 10일      Thumbs Up  2019년"
      ]
     },
     "execution_count": 14,
     "metadata": {},
     "output_type": "execute_result"
    }
   ],
   "source": [
    "df.set_index('그룹 이름', inplace=True)\n",
    "df"
   ]
  },
  {
   "cell_type": "code",
   "execution_count": 15,
   "metadata": {},
   "outputs": [],
   "source": [
    "conn.close()"
   ]
  }
 ],
 "metadata": {
  "kernelspec": {
   "display_name": "Python 3",
   "language": "python",
   "name": "python3"
  },
  "language_info": {
   "codemirror_mode": {
    "name": "ipython",
    "version": 3
   },
   "file_extension": ".py",
   "mimetype": "text/x-python",
   "name": "python",
   "nbconvert_exporter": "python",
   "pygments_lexer": "ipython3",
   "version": "3.7.6"
  }
 },
 "nbformat": 4,
 "nbformat_minor": 4
}
