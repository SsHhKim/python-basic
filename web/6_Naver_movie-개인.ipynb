{
 "cells": [
  {
   "cell_type": "markdown",
   "metadata": {},
   "source": [
    "# Naver 영화 네티즌 평점 수집 - 작은 아씨들, 2019"
   ]
  },
  {
   "cell_type": "code",
   "execution_count": 1,
   "metadata": {},
   "outputs": [],
   "source": [
    "from bs4 import BeautifulSoup \n",
    "from urllib.request import urlopen"
   ]
  },
  {
   "cell_type": "code",
   "execution_count": 2,
   "metadata": {},
   "outputs": [],
   "source": [
    "url_base = 'https://movie.naver.com'\n",
    "url_sub = '/movie/bi/mi/point.nhn?code=186613'\n",
    "html = urlopen(url_base + url_sub)\n",
    "soup = BeautifulSoup(html, 'html.parser')"
   ]
  },
  {
   "cell_type": "markdown",
   "metadata": {},
   "source": [
    "# iframe의 src 주소값을 얻어야 함"
   ]
  },
  {
   "cell_type": "code",
   "execution_count": 3,
   "metadata": {},
   "outputs": [
    {
     "data": {
      "text/plain": [
       "'/movie/bi/mi/pointWriteFormList.nhn?code=186613&type=after&isActualPointWriteExecute=false&isMileageSubscriptionAlready=false&isMileageSubscriptionReject=false'"
      ]
     },
     "execution_count": 3,
     "metadata": {},
     "output_type": "execute_result"
    }
   ],
   "source": [
    "ifr_url = soup.find('iframe')['src']\n",
    "ifr_url"
   ]
  },
  {
   "cell_type": "code",
   "execution_count": 4,
   "metadata": {},
   "outputs": [],
   "source": [
    "url = url_base + ifr_url\n",
    "html = urlopen(url)\n",
    "soup = BeautifulSoup(html, 'html.parser')"
   ]
  },
  {
   "cell_type": "markdown",
   "metadata": {},
   "source": [
    "# 읽을 페이지 수 계산"
   ]
  },
  {
   "cell_type": "code",
   "execution_count": 5,
   "metadata": {},
   "outputs": [
    {
     "data": {
      "text/plain": [
       "<strong class=\"total\">관람객 평점 <em>3,387</em>건<button class=\"btn_review\" id=\"open-form-btn\">내 평점 등록</button></strong>"
      ]
     },
     "execution_count": 5,
     "metadata": {},
     "output_type": "execute_result"
    }
   ],
   "source": [
    "count = soup.find('strong', 'total')\n",
    "count"
   ]
  },
  {
   "cell_type": "code",
   "execution_count": 6,
   "metadata": {},
   "outputs": [
    {
     "data": {
      "text/plain": [
       "'3,387'"
      ]
     },
     "execution_count": 6,
     "metadata": {},
     "output_type": "execute_result"
    }
   ],
   "source": [
    "count = count.find('em').string     # get_text() 대신에 string\n",
    "count"
   ]
  },
  {
   "cell_type": "code",
   "execution_count": 7,
   "metadata": {},
   "outputs": [
    {
     "data": {
      "text/plain": [
       "3387"
      ]
     },
     "execution_count": 7,
     "metadata": {},
     "output_type": "execute_result"
    }
   ],
   "source": [
    "count = int(count.replace(',',''))\n",
    "count"
   ]
  },
  {
   "cell_type": "code",
   "execution_count": 8,
   "metadata": {},
   "outputs": [
    {
     "data": {
      "text/plain": [
       "339"
      ]
     },
     "execution_count": 8,
     "metadata": {},
     "output_type": "execute_result"
    }
   ],
   "source": [
    "import math\n",
    "total_page = math.ceil(count/10)\n",
    "total_page"
   ]
  },
  {
   "cell_type": "markdown",
   "metadata": {},
   "source": [
    "# 전체 리뷰에서 데이터 수집하기"
   ]
  },
  {
   "cell_type": "code",
   "execution_count": 10,
   "metadata": {},
   "outputs": [
    {
     "name": "stdout",
     "output_type": "stream",
     "text": [
      "1 2 3 4 5 6 7 8 9 10 11 12 13 14 15 16 17 18 19 20 21 22 23 24 25 26 27 28 29 30 31 32 33 34 35 36 37 38 39 40 41 42 43 44 45 46 47 48 49 50 51 52 53 54 55 56 57 58 59 60 61 62 63 64 65 66 67 68 69 70 71 72 73 74 75 76 77 78 79 80 81 82 83 84 85 86 87 88 89 90 91 92 93 94 95 96 97 98 99 100 101 102 103 104 105 106 107 108 109 110 111 112 113 114 115 116 117 118 119 120 121 122 123 124 125 126 127 128 129 130 131 132 133 134 135 136 137 138 139 140 141 142 143 144 145 146 147 148 149 150 151 152 153 154 155 156 157 158 159 160 161 162 163 164 165 166 167 168 169 170 171 172 173 174 175 176 177 178 179 180 181 182 183 184 185 186 187 188 189 190 191 192 193 194 195 196 197 198 199 200 201 202 203 204 205 206 207 208 209 210 211 212 213 214 215 216 217 218 219 220 221 222 223 224 225 226 227 228 229 230 231 232 233 234 235 236 237 238 239 240 241 242 243 244 245 246 247 248 249 250 251 252 253 254 255 256 257 258 259 260 261 262 263 264 265 266 267 268 269 270 271 272 273 274 275 276 277 278 279 280 281 282 283 284 285 286 287 288 289 290 291 292 293 294 295 296 297 298 299 300 301 302 303 304 305 306 307 308 309 310 311 312 313 314 315 316 317 318 319 320 321 322 323 324 325 326 327 328 329 330 331 332 333 334 335 336 337 338 339 "
     ]
    }
   ],
   "source": [
    "point = []\n",
    "review = []\n",
    "date = []\n",
    "for page in range(1, total_page+1):\n",
    "    print(page, end=' ')\n",
    "    url = url_base + ifr_url + '&page=' + str(page)\n",
    "    html = urlopen(url)\n",
    "    soup = BeautifulSoup(html, 'html.parser')\n",
    "    result = soup.find(class_='score_result')\n",
    "    lis = result.find_all('li')\n",
    "    for li in lis:\n",
    "        score = li.find(class_='star_score').find('em').get_text()\n",
    "        score = int(score)\n",
    "        point.append(score)\n",
    "        count_span = len(li.find(class_='score_reple').find(class_='').find_all('span'))\n",
    "        count_icon = len(li.find_all(class_='ico_viewer'))\n",
    "        count_spo = len(li.find_all(class_='text_spo'))\n",
    "        criteria = str(count_span) + str(count_icon) + str(count_spo)\n",
    "        #print(criteria)\n",
    "        if criteria == '100':\n",
    "            r = li.find(class_='score_reple').find('span').string.strip(' \\t\\r\\n')\n",
    "        elif criteria == '200':\n",
    "            r = li.find(class_='score_reple').find('a')['data-src']\n",
    "        elif criteria == '210':\n",
    "            r = li.find(class_='score_reple').find_all('span')[1].string.strip(' \\t\\r\\n')\n",
    "        elif criteria == '310':\n",
    "            r = li.find(class_='score_reple').find('a')['data-src']\n",
    "        elif criteria == '311':\n",
    "            r = li.find(class_='score_reple').find_all('span')[2].string.strip(' \\t\\r\\n')\n",
    "        elif criteria == '201':\n",
    "            r = li.find(class_='score_reple').find_all('span')[1].string.strip(' \\t\\r\\n')\n",
    "\n",
    "        review.append(r)\n",
    "        date.append(li.find(class_='score_reple').find_all('em')[1].get_text())"
   ]
  },
  {
   "cell_type": "code",
   "execution_count": 13,
   "metadata": {},
   "outputs": [
    {
     "data": {
      "text/html": [
       "<div>\n",
       "<style scoped>\n",
       "    .dataframe tbody tr th:only-of-type {\n",
       "        vertical-align: middle;\n",
       "    }\n",
       "\n",
       "    .dataframe tbody tr th {\n",
       "        vertical-align: top;\n",
       "    }\n",
       "\n",
       "    .dataframe thead th {\n",
       "        text-align: right;\n",
       "    }\n",
       "</style>\n",
       "<table border=\"1\" class=\"dataframe\">\n",
       "  <thead>\n",
       "    <tr style=\"text-align: right;\">\n",
       "      <th></th>\n",
       "      <th>평점</th>\n",
       "      <th>일시</th>\n",
       "      <th>감상평</th>\n",
       "    </tr>\n",
       "  </thead>\n",
       "  <tbody>\n",
       "    <tr>\n",
       "      <th>0</th>\n",
       "      <td>10</td>\n",
       "      <td>2020.02.12 20:55</td>\n",
       "      <td>왜 여성은 사랑을 해야하냐며 말하면서도 사랑을 받고 싶다고 외치던 장면이 너무나 울...</td>\n",
       "    </tr>\n",
       "    <tr>\n",
       "      <th>1</th>\n",
       "      <td>10</td>\n",
       "      <td>2020.02.12 09:02</td>\n",
       "      <td>재밌다고 느끼면 추천을 아니다 비추천</td>\n",
       "    </tr>\n",
       "    <tr>\n",
       "      <th>2</th>\n",
       "      <td>8</td>\n",
       "      <td>2020.02.12 13:12</td>\n",
       "      <td>철없는 막내로만 재현되어왔던 에이미 캐릭터의 재발견. 어쩌면 자매 중에서 제일 고민...</td>\n",
       "    </tr>\n",
       "    <tr>\n",
       "      <th>3</th>\n",
       "      <td>10</td>\n",
       "      <td>2020.02.12 13:27</td>\n",
       "      <td>“자매를 미워하기엔 인생이 너무 짧아.“ 라는 명대사가 내 마음 속에 강하게 들어왔다.</td>\n",
       "    </tr>\n",
       "    <tr>\n",
       "      <th>4</th>\n",
       "      <td>10</td>\n",
       "      <td>2020.02.12 21:18</td>\n",
       "      <td>조가 여자의 전부가 사랑이라는 말이 지긋지긋하지만 너무 외롭다는 말이 공감이 간다....</td>\n",
       "    </tr>\n",
       "    <tr>\n",
       "      <th>5</th>\n",
       "      <td>10</td>\n",
       "      <td>2020.02.12 11:58</td>\n",
       "      <td>영화를 보고 나니 조를 응원하는 내 자신을 발견했다. 잔잔한 감동과 재미가 있는 영화.</td>\n",
       "    </tr>\n",
       "    <tr>\n",
       "      <th>6</th>\n",
       "      <td>9</td>\n",
       "      <td>2020.02.12 13:19</td>\n",
       "      <td>'우리의 어린시절이 끝이났다니 믿겨지지 않아.'격렬하고도 잔잔한 따뜻했던 가족이야기.</td>\n",
       "    </tr>\n",
       "    <tr>\n",
       "      <th>7</th>\n",
       "      <td>10</td>\n",
       "      <td>2020.02.12 14:51</td>\n",
       "      <td>13살 때 1995년도판 &amp;lt;작은 아씨들&amp;gt;을 보고 에이미를 네 자매 중 가...</td>\n",
       "    </tr>\n",
       "    <tr>\n",
       "      <th>8</th>\n",
       "      <td>10</td>\n",
       "      <td>2020.02.12 17:10</td>\n",
       "      <td>엠마왓슨 진짜 존예.. 영화 너무 사랑스럽고 이뻐요..,</td>\n",
       "    </tr>\n",
       "    <tr>\n",
       "      <th>9</th>\n",
       "      <td>10</td>\n",
       "      <td>2020.02.12 21:04</td>\n",
       "      <td>영화보다가 나도 모르게 계속 눈물이 나더라.조에 입혀진 나를 만나고, 아직 갈팡질팡...</td>\n",
       "    </tr>\n",
       "  </tbody>\n",
       "</table>\n",
       "</div>"
      ],
      "text/plain": [
       "   평점                일시                                                감상평\n",
       "0  10  2020.02.12 20:55  왜 여성은 사랑을 해야하냐며 말하면서도 사랑을 받고 싶다고 외치던 장면이 너무나 울...\n",
       "1  10  2020.02.12 09:02                               재밌다고 느끼면 추천을 아니다 비추천\n",
       "2   8  2020.02.12 13:12  철없는 막내로만 재현되어왔던 에이미 캐릭터의 재발견. 어쩌면 자매 중에서 제일 고민...\n",
       "3  10  2020.02.12 13:27   “자매를 미워하기엔 인생이 너무 짧아.“ 라는 명대사가 내 마음 속에 강하게 들어왔다.\n",
       "4  10  2020.02.12 21:18  조가 여자의 전부가 사랑이라는 말이 지긋지긋하지만 너무 외롭다는 말이 공감이 간다....\n",
       "5  10  2020.02.12 11:58   영화를 보고 나니 조를 응원하는 내 자신을 발견했다. 잔잔한 감동과 재미가 있는 영화.\n",
       "6   9  2020.02.12 13:19    '우리의 어린시절이 끝이났다니 믿겨지지 않아.'격렬하고도 잔잔한 따뜻했던 가족이야기.\n",
       "7  10  2020.02.12 14:51  13살 때 1995년도판 &lt;작은 아씨들&gt;을 보고 에이미를 네 자매 중 가...\n",
       "8  10  2020.02.12 17:10                    엠마왓슨 진짜 존예.. 영화 너무 사랑스럽고 이뻐요..,\n",
       "9  10  2020.02.12 21:04  영화보다가 나도 모르게 계속 눈물이 나더라.조에 입혀진 나를 만나고, 아직 갈팡질팡..."
      ]
     },
     "execution_count": 13,
     "metadata": {},
     "output_type": "execute_result"
    }
   ],
   "source": [
    "import pandas as pd\n",
    "df = pd.DataFrame({'평점':point, '일시':date, '감상평':review})\n",
    "df.head(10)"
   ]
  },
  {
   "cell_type": "code",
   "execution_count": 14,
   "metadata": {},
   "outputs": [],
   "source": [
    "df.to_csv('Little Women.csv')"
   ]
  },
  {
   "cell_type": "code",
   "execution_count": 15,
   "metadata": {},
   "outputs": [
    {
     "data": {
      "text/plain": [
       "3387"
      ]
     },
     "execution_count": 15,
     "metadata": {},
     "output_type": "execute_result"
    }
   ],
   "source": [
    "len(df)"
   ]
  },
  {
   "cell_type": "code",
   "execution_count": null,
   "metadata": {},
   "outputs": [],
   "source": [
    "https://movie.naver.com/movie/bi/mi/pointWriteFormList.nhn?code=186613&type=after&isActualPointWriteExecute=false&isMileageSubscriptionAlready=false&isMileageSubscriptionReject=false&page=1"
   ]
  }
 ],
 "metadata": {
  "kernelspec": {
   "display_name": "Python 3",
   "language": "python",
   "name": "python3"
  },
  "language_info": {
   "codemirror_mode": {
    "name": "ipython",
    "version": 3
   },
   "file_extension": ".py",
   "mimetype": "text/x-python",
   "name": "python",
   "nbconvert_exporter": "python",
   "pygments_lexer": "ipython3",
   "version": "3.7.6"
  }
 },
 "nbformat": 4,
 "nbformat_minor": 4
}
