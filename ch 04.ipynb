{
 "cells": [
  {
   "cell_type": "markdown",
   "metadata": {},
   "source": [
    "# chapter 04. 반복문"
   ]
  },
  {
   "cell_type": "code",
   "execution_count": 2,
   "metadata": {},
   "outputs": [
    {
     "name": "stdout",
     "output_type": "stream",
     "text": [
      "안녕하세요. 0\n",
      "안녕하세요. 1\n",
      "안녕하세요. 2\n",
      "안녕하세요. 3\n",
      "안녕하세요. 4\n"
     ]
    }
   ],
   "source": [
    "# 4-1\n",
    "\n",
    "for x in range (5) :\n",
    "    print('안녕하세요.', x)"
   ]
  },
  {
   "cell_type": "code",
   "execution_count": 6,
   "metadata": {},
   "outputs": [
    {
     "name": "stdout",
     "output_type": "stream",
     "text": [
      "안녕하세요. 0\n",
      "안녕하세요. 1\n",
      "안녕하세요. 2\n",
      "안녕하세요. 3\n",
      "안녕하세요. 4\n"
     ]
    }
   ],
   "source": [
    "# 4-2\n",
    "\n",
    "x = 0\n",
    "while x < 5 :\n",
    "    print('안녕하세요.', x)\n",
    "    x += 1\n"
   ]
  },
  {
   "cell_type": "code",
   "execution_count": 11,
   "metadata": {},
   "outputs": [
    {
     "name": "stdout",
     "output_type": "stream",
     "text": [
      "i의 값 : 1, 합계:1\n",
      "1\n",
      "i의 값 : 2, 합계:3\n",
      "3\n",
      "i의 값 : 3, 합계:6\n",
      "6\n",
      "i의 값 : 4, 합계:10\n",
      "10\n",
      "i의 값 : 5, 합계:15\n",
      "15\n",
      "i의 값 : 6, 합계:21\n",
      "21\n",
      "i의 값 : 7, 합계:28\n",
      "28\n",
      "i의 값 : 8, 합계:36\n",
      "36\n",
      "i의 값 : 9, 합계:45\n",
      "45\n",
      "i의 값 : 10, 합계:55\n",
      "55\n",
      "55\n"
     ]
    }
   ],
   "source": [
    "# 4-3\n",
    "# sum = 1 + 2 + 3 + ... + 10\n",
    "\n",
    "sum = 0\n",
    "\n",
    "for i in range(1, 11) :\n",
    "    sum += i\n",
    "    print('i의 값 : %d, 합계:%d'%(i,sum))\n",
    "    print(sum)\n",
    "print(sum)"
   ]
  },
  {
   "cell_type": "code",
   "execution_count": 19,
   "metadata": {},
   "outputs": [
    {
     "name": "stdout",
     "output_type": "stream",
     "text": [
      "0 1 2 3 4 5 6 7 8 9 \n",
      "1 2 3 4 5 6 7 8 9 10 \n",
      "1 3 5 7 9 \n",
      "20 18 16 14 12 10 8 6 4 2 "
     ]
    }
   ],
   "source": [
    "# 4-4\n",
    "\n",
    "for i in range(10) :\n",
    "    print(i, end =' ')\n",
    "print()\n",
    "\n",
    "for i in range(1,11) :\n",
    "    print(i, end=' ')\n",
    "print()\n",
    "\n",
    "for i in range(1, 10, 2) :\n",
    "    print(i, end = ' ')\n",
    "print()\n",
    "\n",
    "for i in range(20, 0, -2) :\n",
    "    print(i, end =' ')\n"
   ]
  },
  {
   "cell_type": "code",
   "execution_count": 22,
   "metadata": {},
   "outputs": [
    {
     "name": "stdout",
     "output_type": "stream",
     "text": [
      "3 6 9 12 15 18 21 24 27 30 33 36 39 42 45 48 51 54 57 60 63 66 69 72 75 78 81 84 87 90 93 96 99 \n",
      " --------------------------------------------------\n",
      "1 ~100에서 3의 배수의 합계 : 1683\n"
     ]
    }
   ],
   "source": [
    "# 4-5\n",
    "\n",
    "sum = 0\n",
    "for i in range(1, 101):\n",
    "    if i%3 == 0 :\n",
    "        print('%d' % i, end = ' ')\n",
    "        sum += i\n",
    "\n",
    "print('\\n','-' * 50)\n",
    "print('1 ~100에서 3의 배수의 합계 : %d' % sum)"
   ]
  },
  {
   "cell_type": "code",
   "execution_count": 23,
   "metadata": {},
   "outputs": [
    {
     "name": "stdout",
     "output_type": "stream",
     "text": [
      "영어 문장을 입력하세요 :I want to back home.\n",
      "I\n",
      " \n",
      "w\n",
      "a\n",
      "n\n",
      "t\n",
      " \n",
      "t\n",
      "o\n",
      " \n",
      "b\n",
      "a\n",
      "c\n",
      "k\n",
      " \n",
      "h\n",
      "o\n",
      "m\n",
      "e\n",
      ".\n"
     ]
    }
   ],
   "source": [
    "# 4-6\n",
    "\n",
    "word = input('영어 문장을 입력하세요 :')\n",
    "\n",
    "for x in word :\n",
    "    print(x)"
   ]
  },
  {
   "cell_type": "code",
   "execution_count": 24,
   "metadata": {},
   "outputs": [
    {
     "name": "stdout",
     "output_type": "stream",
     "text": [
      "------------------------------\n",
      " 섭씨 화씨\n",
      "------------------------------\n",
      "     -20   -4.0\n",
      "     -15    5.0\n",
      "     -10   14.0\n",
      "      -5   23.0\n",
      "       0   32.0\n",
      "       5   41.0\n",
      "      10   50.0\n",
      "      15   59.0\n",
      "      20   68.0\n",
      "      25   77.0\n",
      "      30   86.0\n",
      "------------------------------\n"
     ]
    }
   ],
   "source": [
    "# 4-7\n",
    "\n",
    "print('-'*30)\n",
    "print(' 섭씨 화씨')\n",
    "print('-'*30)\n",
    "\n",
    "for c in range(-20, 31, 5) :\n",
    "    f = c * 9.0 / 5.0 + 32.0\n",
    "    print('%8d %6.1f' % (c,f))\n",
    "    \n",
    "print('-'*30)"
   ]
  },
  {
   "cell_type": "code",
   "execution_count": 25,
   "metadata": {},
   "outputs": [
    {
     "ename": "SyntaxError",
     "evalue": "invalid syntax (<ipython-input-25-c28acbc3f58e>, line 12)",
     "output_type": "error",
     "traceback": [
      "\u001b[1;36m  File \u001b[1;32m\"<ipython-input-25-c28acbc3f58e>\"\u001b[1;36m, line \u001b[1;32m12\u001b[0m\n\u001b[1;33m    print('%d에서 %d까지 5의 배수가 아닌 수의 합계 : %d' %)\u001b[0m\n\u001b[1;37m                                            ^\u001b[0m\n\u001b[1;31mSyntaxError\u001b[0m\u001b[1;31m:\u001b[0m invalid syntax\n"
     ]
    }
   ],
   "source": [
    "# Q 4-1 5의 배수가 아닌 수의 합계 구하기\n",
    "\n",
    "n1 = int(input('시작 수를 입력하세요 :'))\n",
    "n2 = int(input('끝 수를 입력하세요 :'))\n",
    "\n",
    "sum = 0\n",
    "for i in range(n1, n2+1) :\n",
    "    if i % 5 != 0 :\n",
    "        sum += i\n",
    "    \n",
    "print('-' * 50)\n",
    "print('%d에서 %d까지 5의 배수가 아닌 수의 합계 : %d' %)"
   ]
  },
  {
   "cell_type": "code",
   "execution_count": 26,
   "metadata": {},
   "outputs": [
    {
     "ename": "SyntaxError",
     "evalue": "invalid syntax (<ipython-input-26-00a65d40776c>, line 4)",
     "output_type": "error",
     "traceback": [
      "\u001b[1;36m  File \u001b[1;32m\"<ipython-input-26-00a65d40776c>\"\u001b[1;36m, line \u001b[1;32m4\u001b[0m\n\u001b[1;33m    for i in range(0.)\u001b[0m\n\u001b[1;37m                      ^\u001b[0m\n\u001b[1;31mSyntaxError\u001b[0m\u001b[1;31m:\u001b[0m invalid syntax\n"
     ]
    }
   ],
   "source": [
    "# Q 4-2 전화번호에서 하이픈 삭제하기\n",
    "\n",
    "number = input('하이픈(-)을 포함한 휴대폰 번호를 입력하세요 :')\n",
    "for i in range(0.)\n"
   ]
  },
  {
   "cell_type": "code",
   "execution_count": 28,
   "metadata": {},
   "outputs": [
    {
     "ename": "SyntaxError",
     "evalue": "invalid syntax (<ipython-input-28-9e033c2fb030>, line 6)",
     "output_type": "error",
     "traceback": [
      "\u001b[1;36m  File \u001b[1;32m\"<ipython-input-28-9e033c2fb030>\"\u001b[1;36m, line \u001b[1;32m6\u001b[0m\n\u001b[1;33m    if i = 2 :\u001b[0m\n\u001b[1;37m         ^\u001b[0m\n\u001b[1;31mSyntaxError\u001b[0m\u001b[1;31m:\u001b[0m invalid syntax\n"
     ]
    }
   ],
   "source": [
    "# Q 4-3 전화번호에 하이픈 추가하기\n",
    "\n",
    "phone = input('하이픈(-)을 뺀 11자리의 휴대폰 번호를 입력하세요 :')\n",
    "number = '' ;\n",
    "for i in range(0, ) :\n",
    "    if i = 2 :\n",
    "        number = number + (phone[2]+'-')\n",
    "    elif i = 6 :\n",
    "        number = number + (phone[6]+'-')\n",
    "    else :\n",
    "        number = number + phone[i]\n",
    "\n",
    "print(number)"
   ]
  },
  {
   "cell_type": "code",
   "execution_count": 29,
   "metadata": {},
   "outputs": [],
   "source": [
    "#"
   ]
  },
  {
   "cell_type": "code",
   "execution_count": 30,
   "metadata": {},
   "outputs": [],
   "source": [
    "#"
   ]
  },
  {
   "cell_type": "code",
   "execution_count": 31,
   "metadata": {},
   "outputs": [],
   "source": [
    "#\n"
   ]
  },
  {
   "cell_type": "code",
   "execution_count": 32,
   "metadata": {},
   "outputs": [
    {
     "name": "stdout",
     "output_type": "stream",
     "text": [
      "2 x 1 = 2\n",
      "2 x 2 = 4\n",
      "2 x 3 = 6\n",
      "2 x 4 = 8\n",
      "2 x 5 = 10\n",
      "2 x 6 = 12\n",
      "2 x 7 = 14\n",
      "2 x 8 = 16\n",
      "2 x 9 = 18\n",
      "--------------------------------------------------\n"
     ]
    }
   ],
   "source": [
    "# 4-8\n",
    "\n",
    "a = 2\n",
    "for b in range(1,10) :\n",
    "    c = a *b\n",
    "    print('%d x %d = %d' % (a, b, c))\n",
    "    \n",
    "print('-'*50)"
   ]
  },
  {
   "cell_type": "code",
   "execution_count": 40,
   "metadata": {},
   "outputs": [
    {
     "name": "stdout",
     "output_type": "stream",
     "text": [
      "--------------------------------------------------\n",
      "2 x 1 = 2\n",
      "2 x 2 = 4\n",
      "2 x 3 = 6\n",
      "2 x 4 = 8\n",
      "2 x 5 = 10\n",
      "2 x 6 = 12\n",
      "2 x 7 = 14\n",
      "2 x 8 = 16\n",
      "2 x 9 = 18\n",
      "--------------------------------------------------\n",
      "--------------------------------------------------\n",
      "3 x 1 = 3\n",
      "3 x 2 = 6\n",
      "3 x 3 = 9\n",
      "3 x 4 = 12\n",
      "3 x 5 = 15\n",
      "3 x 6 = 18\n",
      "3 x 7 = 21\n",
      "3 x 8 = 24\n",
      "3 x 9 = 27\n",
      "--------------------------------------------------\n",
      "--------------------------------------------------\n",
      "4 x 1 = 4\n",
      "4 x 2 = 8\n",
      "4 x 3 = 12\n",
      "4 x 4 = 16\n",
      "4 x 5 = 20\n",
      "4 x 6 = 24\n",
      "4 x 7 = 28\n",
      "4 x 8 = 32\n",
      "4 x 9 = 36\n",
      "--------------------------------------------------\n",
      "--------------------------------------------------\n",
      "5 x 1 = 5\n",
      "5 x 2 = 10\n",
      "5 x 3 = 15\n",
      "5 x 4 = 20\n",
      "5 x 5 = 25\n",
      "5 x 6 = 30\n",
      "5 x 7 = 35\n",
      "5 x 8 = 40\n",
      "5 x 9 = 45\n",
      "--------------------------------------------------\n",
      "--------------------------------------------------\n",
      "6 x 1 = 6\n",
      "6 x 2 = 12\n",
      "6 x 3 = 18\n",
      "6 x 4 = 24\n",
      "6 x 5 = 30\n",
      "6 x 6 = 36\n",
      "6 x 7 = 42\n",
      "6 x 8 = 48\n",
      "6 x 9 = 54\n",
      "--------------------------------------------------\n",
      "--------------------------------------------------\n",
      "7 x 1 = 7\n",
      "7 x 2 = 14\n",
      "7 x 3 = 21\n",
      "7 x 4 = 28\n",
      "7 x 5 = 35\n",
      "7 x 6 = 42\n",
      "7 x 7 = 49\n",
      "7 x 8 = 56\n",
      "7 x 9 = 63\n",
      "--------------------------------------------------\n",
      "--------------------------------------------------\n",
      "8 x 1 = 8\n",
      "8 x 2 = 16\n",
      "8 x 3 = 24\n",
      "8 x 4 = 32\n",
      "8 x 5 = 40\n",
      "8 x 6 = 48\n",
      "8 x 7 = 56\n",
      "8 x 8 = 64\n",
      "8 x 9 = 72\n",
      "--------------------------------------------------\n",
      "--------------------------------------------------\n",
      "9 x 1 = 9\n",
      "9 x 2 = 18\n",
      "9 x 3 = 27\n",
      "9 x 4 = 36\n",
      "9 x 5 = 45\n",
      "9 x 6 = 54\n",
      "9 x 7 = 63\n",
      "9 x 8 = 72\n",
      "9 x 9 = 81\n",
      "--------------------------------------------------\n"
     ]
    }
   ],
   "source": [
    "for a in range(2,10) :\n",
    "    print('-'*50)\n",
    "    for b in range(1,10) :\n",
    "        c = a *b\n",
    "        print('%d x %d = %d' % (a, b, c))\n",
    "    print('-'*50)"
   ]
  },
  {
   "cell_type": "code",
   "execution_count": 51,
   "metadata": {},
   "outputs": [
    {
     "name": "stdout",
     "output_type": "stream",
     "text": [
      "*\n",
      "**\n",
      "***\n",
      "****\n",
      "*****\n",
      "******\n",
      "*******\n",
      "********\n",
      "*********\n",
      "**********\n",
      "--------------------------------------------------\n",
      "*\n",
      "**\n",
      "***\n",
      "****\n",
      "*****\n",
      "******\n",
      "*******\n",
      "********\n",
      "*********\n",
      "**********\n",
      "--------------------------------------------------\n",
      "**\n",
      "***\n",
      "****\n",
      "*****\n",
      "******\n",
      "*******\n",
      "********\n",
      "*********\n",
      "**********\n",
      "***********\n"
     ]
    }
   ],
   "source": [
    "# Q 4-7\n",
    "\n",
    "for i in range(1,11) :\n",
    "    print('*'* i)\n",
    "print('-'*50)\n",
    "    \n",
    "for i in range(1,11) :\n",
    "    for k in range(1, i+1) :\n",
    "        print('*', end='')\n",
    "    print()\n",
    "print('-'*50)\n",
    "\n",
    "for i in range(1,11) :\n",
    "    for k in range(1 * i+1) :\n",
    "        print('*', end='')\n",
    "    print()\n",
    "    "
   ]
  },
  {
   "cell_type": "code",
   "execution_count": 61,
   "metadata": {},
   "outputs": [
    {
     "name": "stdout",
     "output_type": "stream",
     "text": [
      "    *\n",
      "   **\n",
      "  ***\n",
      " ****\n",
      "*****\n"
     ]
    }
   ],
   "source": [
    "# Q 4-8\n",
    "\n",
    "for i in range(1, 6) :\n",
    "    for k in range(1, 5-i+1) :\n",
    "        print(' ', end='')\n",
    "    for s in range(1, i+1) :\n",
    "        print('*', end='')\n",
    "    print()\n",
    "\n"
   ]
  },
  {
   "cell_type": "code",
   "execution_count": 62,
   "metadata": {},
   "outputs": [],
   "source": [
    "# 연습문제 다이아몬드 만들기"
   ]
  },
  {
   "cell_type": "code",
   "execution_count": null,
   "metadata": {},
   "outputs": [],
   "source": []
  },
  {
   "cell_type": "code",
   "execution_count": 63,
   "metadata": {},
   "outputs": [
    {
     "name": "stdout",
     "output_type": "stream",
     "text": [
      "i의 값 : 1 => 합계 : 1684\n",
      "i의 값 : 2 => 합계 : 1686\n",
      "i의 값 : 3 => 합계 : 1689\n",
      "i의 값 : 4 => 합계 : 1693\n",
      "i의 값 : 5 => 합계 : 1698\n",
      "i의 값 : 6 => 합계 : 1704\n",
      "i의 값 : 7 => 합계 : 1711\n",
      "i의 값 : 8 => 합계 : 1719\n",
      "i의 값 : 9 => 합계 : 1728\n",
      "i의 값 : 10 => 합계 : 1738\n"
     ]
    }
   ],
   "source": [
    "# 4-10\n",
    "\n",
    "i = 1\n",
    "\n",
    "while i <= 10 :\n",
    "    sum += i\n",
    "    print('i의 값 : %d => 합계 : %d' % (i, sum))\n",
    "    i += 1"
   ]
  },
  {
   "cell_type": "code",
   "execution_count": 81,
   "metadata": {},
   "outputs": [
    {
     "name": "stdout",
     "output_type": "stream",
     "text": [
      "1\n",
      "3\n",
      "6\n",
      "10\n",
      "15\n",
      "21\n",
      "28\n",
      "36\n",
      "45\n",
      "55\n",
      "66\n",
      "78\n",
      "91\n",
      "105\n",
      "120\n",
      "136\n",
      "153\n",
      "171\n",
      "190\n",
      "210\n",
      "231\n",
      "253\n",
      "276\n",
      "300\n",
      "325\n",
      "351\n",
      "378\n",
      "406\n",
      "435\n",
      "465\n",
      "496\n",
      "528\n",
      "561\n",
      "595\n",
      "630\n",
      "666\n",
      "703\n",
      "741\n",
      "780\n",
      "820\n",
      "861\n",
      "903\n",
      "946\n",
      "990\n",
      "989 46\n"
     ]
    }
   ],
   "source": [
    "sum = 0\n",
    "i = 1\n",
    "\n",
    "while sum < 1000 :\n",
    "    sum += i\n",
    "    i += 1\n",
    "    if sum > 1000 :\n",
    "        break\n",
    "    print(sum)\n",
    "    \n",
    "print(sum-i, i)"
   ]
  },
  {
   "cell_type": "code",
   "execution_count": 84,
   "metadata": {},
   "outputs": [
    {
     "name": "stdout",
     "output_type": "stream",
     "text": [
      "1 3 5 7 9 "
     ]
    }
   ],
   "source": [
    "# continue\n",
    "\n",
    "for i in range(10) :\n",
    "    if i % 2 == 0 :\n",
    "        continue\n",
    "    print(i, end=' ')"
   ]
  },
  {
   "cell_type": "code",
   "execution_count": 91,
   "metadata": {},
   "outputs": [
    {
     "name": "stdout",
     "output_type": "stream",
     "text": [
      "i = 1 : 0 \n",
      "i = 2 : 0 1 \n",
      "i = 3 : 0 1 2 \n",
      "i = 4 : 0 1 2 3 \n",
      "i = 5 : 0 1 2 3 4 \n"
     ]
    }
   ],
   "source": [
    "# 중첩에서 break\n",
    "\n",
    "for i in range(1, 6) :\n",
    "    print('i =',i, ':', end=' ')\n",
    "    for k in range(5) :\n",
    "        if k == i:\n",
    "            break;\n",
    "        print(k, end=' ')\n",
    "    print()\n"
   ]
  }
 ],
 "metadata": {
  "kernelspec": {
   "display_name": "Python 3",
   "language": "python",
   "name": "python3"
  },
  "language_info": {
   "codemirror_mode": {
    "name": "ipython",
    "version": 3
   },
   "file_extension": ".py",
   "mimetype": "text/x-python",
   "name": "python",
   "nbconvert_exporter": "python",
   "pygments_lexer": "ipython3",
   "version": "3.7.6"
  }
 },
 "nbformat": 4,
 "nbformat_minor": 4
}
