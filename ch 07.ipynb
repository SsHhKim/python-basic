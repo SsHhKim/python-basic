{
 "cells": [
  {
   "cell_type": "markdown",
   "metadata": {},
   "source": [
    "#  chapter 07. 함수"
   ]
  },
  {
   "cell_type": "code",
   "execution_count": 1,
   "metadata": {},
   "outputs": [
    {
     "name": "stdout",
     "output_type": "stream",
     "text": [
      "안녕하세요.\n"
     ]
    }
   ],
   "source": [
    "# 7-1\n",
    "\n",
    "def hello():\n",
    "    print('안녕하세요.')\n",
    "    \n",
    "hello()"
   ]
  },
  {
   "cell_type": "code",
   "execution_count": 3,
   "metadata": {},
   "outputs": [
    {
     "name": "stdout",
     "output_type": "stream",
     "text": [
      "7은(는) 홀수이다.\n",
      "16은(는) 짝수이다.\n"
     ]
    }
   ],
   "source": [
    "# 7-2\n",
    "\n",
    "def even_odd(num) :\n",
    "    if num % 2 == 0 :\n",
    "        print('%d은(는) 짝수이다.' % num)\n",
    "    else :\n",
    "        print('%d은(는) 홀수이다.' % num)\n",
    "        \n",
    "even_odd(7)\n",
    "even_odd(16)"
   ]
  },
  {
   "cell_type": "code",
   "execution_count": 12,
   "metadata": {},
   "outputs": [
    {
     "name": "stdout",
     "output_type": "stream",
     "text": [
      "7 홀수\n"
     ]
    }
   ],
   "source": [
    "def even_odd(num) :\n",
    "    if num % 2 == 0 :\n",
    "        print(num, '짝수')\n",
    "    else :\n",
    "        print(num, '홀수')  \n",
    "\n",
    "even_odd(7)"
   ]
  },
  {
   "cell_type": "code",
   "execution_count": 13,
   "metadata": {},
   "outputs": [
    {
     "name": "stdout",
     "output_type": "stream",
     "text": [
      "덧셈 5\n",
      "뺄셈 -1\n"
     ]
    }
   ],
   "source": [
    "def add_sub(num1, num2) :\n",
    "    print('덧셈', num1+num2)\n",
    "    print('뺄셈', num1-num2)\n",
    "    \n",
    "add_sub(2,3)\n",
    "    "
   ]
  },
  {
   "cell_type": "code",
   "execution_count": 14,
   "metadata": {},
   "outputs": [
    {
     "name": "stdout",
     "output_type": "stream",
     "text": [
      "김지영님은 빨강을 좋아하지 않습니다.\n",
      "홍채영님은 노랑을 조금 좋아합니다.\n",
      "진소진님은 파랑을 매우 좋아합니다.\n"
     ]
    }
   ],
   "source": [
    "# 7-3\n",
    "\n",
    "def favorate_color(name, color, amount) :\n",
    "    if (amount == 1) :\n",
    "        print('%s님은 %s을 좋아하지 않습니다.' % (name, color))\n",
    "    elif (amount == 2) :\n",
    "        print('%s님은 %s을 조금 좋아합니다.' % (name, color))\n",
    "    else :\n",
    "        print('%s님은 %s을 매우 좋아합니다.' % (name, color))\n",
    "        \n",
    "favorate_color('김지영', '빨강', 1)\n",
    "favorate_color('홍채영', '노랑', 2)\n",
    "favorate_color('진소진', '파랑', 3)"
   ]
  },
  {
   "cell_type": "code",
   "execution_count": 15,
   "metadata": {},
   "outputs": [
    {
     "name": "stdout",
     "output_type": "stream",
     "text": [
      "3과목의 평균 : 90.00\n",
      "4과목의 평균 : 81.75\n",
      "5과목의 평균 : 79.40\n"
     ]
    }
   ],
   "source": [
    "# 7-4\n",
    "\n",
    "def average(*scores):\n",
    "    sum = 0\n",
    "    for i in range(len(scores)) :\n",
    "        sum += scores[i]\n",
    "        \n",
    "    avg = sum/len(scores)\n",
    "    print('%d과목의 평균 : %.2f' % (len(scores), avg))\n",
    "    \n",
    "average(80, 90, 100)\n",
    "average(75, 80, 94, 78)\n",
    "average(80, 73, 76, 86, 82)"
   ]
  },
  {
   "cell_type": "code",
   "execution_count": 16,
   "metadata": {},
   "outputs": [
    {
     "name": "stdout",
     "output_type": "stream",
     "text": [
      "(80, 90, 100)\n",
      "3과목의 평균 : 90.00\n",
      "(75, 80, 94, 78)\n",
      "4과목의 평균 : 81.75\n",
      "(80, 73, 76, 86, 82)\n",
      "5과목의 평균 : 79.40\n"
     ]
    }
   ],
   "source": [
    "def average(*scores):\n",
    "    print(scores)\n",
    "    sum = 0\n",
    "    for score in scores :\n",
    "        sum += score\n",
    "        \n",
    "    avg = sum/len(scores)\n",
    "    print('%d과목의 평균 : %.2f' % (len(scores), avg))\n",
    "    \n",
    "average(80, 90, 100)\n",
    "average(75, 80, 94, 78)\n",
    "average(80, 73, 76, 86, 82)"
   ]
  },
  {
   "cell_type": "code",
   "execution_count": 19,
   "metadata": {},
   "outputs": [
    {
     "name": "stdout",
     "output_type": "stream",
     "text": [
      "원의 반지름을 입력하세요 : 6\n",
      "반지름 : 6, 원의 면적 : 113.40\n",
      "원의 반지름을 입력하세요 : 18\n",
      "반지름 : 18, 원의 면적 : 1020.60\n"
     ]
    }
   ],
   "source": [
    "# 7-7  (얘가 표준 함수)\n",
    "\n",
    "def circle_area(r) :\n",
    "    area = r * r *3.15\n",
    "    \n",
    "    return area\n",
    "\n",
    "radius = int(input('원의 반지름을 입력하세요 : '))\n",
    "result = circle_area(radius)\n",
    "print('반지름 : %d, 원의 면적 : %.2f' % (radius, result))\n",
    "\n",
    "radius = int(input('원의 반지름을 입력하세요 : '))\n",
    "result = circle_area(radius)\n",
    "print('반지름 : %d, 원의 면적 : %.2f' % (radius, result))\n"
   ]
  },
  {
   "cell_type": "code",
   "execution_count": 22,
   "metadata": {},
   "outputs": [
    {
     "name": "stdout",
     "output_type": "stream",
     "text": [
      "원의 반지름을 입력하세요 : 10\n",
      "반지름 : 10, 원의 면적 : 314.00, 원의 둘레 : 62.80\n"
     ]
    }
   ],
   "source": [
    "\n",
    "def new_circle(r) :\n",
    "    area = r * r *3.14\n",
    "    circum = 2 * 3.14 * r\n",
    "    \n",
    "    return area, circum\n",
    "\n",
    "radius = int(input('원의 반지름을 입력하세요 : '))\n",
    "res1, res2 = new_circle(radius)\n",
    "print('반지름 : %d, 원의 면적 : %.2f, 원의 둘레 : %.2f' % (radius, res1, res2))"
   ]
  },
  {
   "cell_type": "code",
   "execution_count": 33,
   "metadata": {},
   "outputs": [
    {
     "name": "stdout",
     "output_type": "stream",
     "text": [
      "이름:  홍길동\n",
      "나이:  30\n",
      "주소:  서울시 용산구 이촌동\n"
     ]
    }
   ],
   "source": [
    "# \n",
    "\n",
    "\n",
    "def personal_info(name, age, address):\n",
    "        print('이름: ', name)\n",
    "        print('나이: ', age)\n",
    "        print('주소: ', address)\n",
    "\n",
    "personal_info('홍길동', 30, '서울시 용산구 이촌동')\n"
   ]
  },
  {
   "cell_type": "code",
   "execution_count": 28,
   "metadata": {},
   "outputs": [
    {
     "name": "stdout",
     "output_type": "stream",
     "text": [
      "이름:  홍길동\n",
      "나이:  30\n",
      "주소:  서울시 용산구 이촌동\n"
     ]
    }
   ],
   "source": [
    "personal_info(age=30, address='서울시 용산구 이촌동', name='홍길동')"
   ]
  },
  {
   "cell_type": "code",
   "execution_count": 39,
   "metadata": {},
   "outputs": [
    {
     "name": "stdout",
     "output_type": "stream",
     "text": [
      "이름:  홍길동\n",
      "나이:  30\n",
      "주소:  서울시 용산구 이촌동\n"
     ]
    }
   ],
   "source": [
    "x = {'name' : '홍길동', 'age' : 30, 'address' : '서울시 용산구 이촌동'}\n",
    "personal_info(**x)"
   ]
  },
  {
   "cell_type": "code",
   "execution_count": 42,
   "metadata": {},
   "outputs": [
    {
     "name": "stdout",
     "output_type": "stream",
     "text": [
      "이름:  name\n",
      "나이:  age\n",
      "주소:  address\n"
     ]
    }
   ],
   "source": [
    "x = {'name' : '홍길동', 'age' : 30, 'address' : '서울시 용산구 이촌동'}\n",
    "personal_info(*x)"
   ]
  },
  {
   "cell_type": "code",
   "execution_count": 37,
   "metadata": {},
   "outputs": [
    {
     "name": "stdout",
     "output_type": "stream",
     "text": [
      "(70, 80, 90, 95)\n",
      "4과목의 평균 : 83.75\n"
     ]
    }
   ],
   "source": [
    "y = (70, 80, 90, 95)\n",
    "\n",
    "average(*y)"
   ]
  },
  {
   "cell_type": "code",
   "execution_count": 47,
   "metadata": {},
   "outputs": [
    {
     "name": "stdout",
     "output_type": "stream",
     "text": [
      "name: 홍길동\n",
      "age: 30\n",
      "address: 서울시 용산구 이촌동\n"
     ]
    }
   ],
   "source": [
    "# 키워드형 가변인수\n",
    "\n",
    "def personal_info(**kwargs) :\n",
    "    for kw, val in kwargs.items():\n",
    "        print(kw, ': ', val, sep='')\n",
    "        \n",
    "x = {'name' : '홍길동', 'age' : 30, 'address' : '서울시 용산구 이촌동'}\n",
    "personal_info(**x)"
   ]
  },
  {
   "cell_type": "code",
   "execution_count": 57,
   "metadata": {},
   "outputs": [
    {
     "name": "stdout",
     "output_type": "stream",
     "text": [
      "1:2:3=========="
     ]
    }
   ],
   "source": [
    "# 위치형 가변인수 + 키워드형 가변인수\n",
    "\n",
    "def custom_print(*args, **kwargs):\n",
    "     print(*args, **kwargs)\n",
    "\n",
    "custom_print(1, 2, 3, sep=':', end='='*10)"
   ]
  },
  {
   "cell_type": "code",
   "execution_count": 59,
   "metadata": {},
   "outputs": [
    {
     "name": "stdout",
     "output_type": "stream",
     "text": [
      "10 ~100의 정수 합계 : 5005\n",
      "100 ~1000의 정수 합계 : 495550\n",
      "1000 ~10000의 정수 합계 : 49505500\n"
     ]
    }
   ],
   "source": [
    "# Q 7-1 함수로 정수 합계 구하기\n",
    "\n",
    "def sum(start, end) :\n",
    "    total = 0\n",
    "    for i in range(start, end+1):\n",
    "        total += i\n",
    "    print('%d ~%d의 정수 합계 : %d'%(start, end, total))\n",
    "    \n",
    "sum(10, 100)\n",
    "sum(100, 1000)\n",
    "sum(1000, 10000)"
   ]
  },
  {
   "cell_type": "code",
   "execution_count": 65,
   "metadata": {},
   "outputs": [
    {
     "name": "stdout",
     "output_type": "stream",
     "text": [
      "시작 수를 입력하세요: 10\n",
      "끝 수를 입력하세요: 100\n",
      "합계를 구할 배수를 입력하세요: 5\n",
      "10 ~ 100의 정수 중 5의 배수의 합 : 1045\n"
     ]
    }
   ],
   "source": [
    "# Q 7-2\n",
    "\n",
    "\n",
    "\n",
    "def sum_besu(n1, n2, num) :\n",
    "    sum = 0\n",
    "    for i in range(n1, n2+1) :\n",
    "        if i % num == 0 :\n",
    "            sum += i\n",
    "\n",
    "    return sum\n",
    "\n",
    "start = int(input('시작 수를 입력하세요: '))\n",
    "end = int(input('끝 수를 입력하세요: '))\n",
    "besu = int(input('합계를 구할 배수를 입력하세요: '))\n",
    "\n",
    "result = sum_besu(start, end, besu)\n",
    "\n",
    "print('%d ~ %d의 정수 중 %d의 배수의 합 : %d' % (start, end, besu, result))"
   ]
  },
  {
   "cell_type": "code",
   "execution_count": 69,
   "metadata": {},
   "outputs": [
    {
     "name": "stdout",
     "output_type": "stream",
     "text": [
      "첫 번째 수를 입력하세요: 256\n",
      "두 번째 수를 입력하세요: 342\n",
      "256과(와) 342의 최대공약수 : 2\n"
     ]
    }
   ],
   "source": [
    "# Q 7-3\n",
    "\n",
    "def computeMaxGong(x, y) :\n",
    "    if x > y :\n",
    "        small = y\n",
    "    else :\n",
    "        small = x\n",
    "        \n",
    "    for i in range(1, small+1) :\n",
    "        if((x % i == 0) and (y % i == 0)) :\n",
    "            result = i\n",
    "    return result\n",
    "\n",
    "num1 = int(input(\"첫 번째 수를 입력하세요: \"))\n",
    "num2 = int(input(\"두 번째 수를 입력하세요: \"))\n",
    "\n",
    "max_gong = computeMaxGong(num1, num2)\n",
    "\n",
    "print('%d과(와) %d의 최대공약수 : %d' % (num1, num2, max_gong))"
   ]
  },
  {
   "cell_type": "code",
   "execution_count": 101,
   "metadata": {},
   "outputs": [
    {
     "name": "stdout",
     "output_type": "stream",
     "text": [
      "끝 수를 입력하세요: 1000\n"
     ]
    },
    {
     "ename": "RecursionError",
     "evalue": "maximum recursion depth exceeded in comparison",
     "output_type": "error",
     "traceback": [
      "\u001b[1;31m---------------------------------------------------------------------------\u001b[0m",
      "\u001b[1;31mRecursionError\u001b[0m                            Traceback (most recent call last)",
      "\u001b[1;32m<ipython-input-101-d9207f4d38cf>\u001b[0m in \u001b[0;36m<module>\u001b[1;34m\u001b[0m\n\u001b[0;32m      9\u001b[0m \u001b[0mnum\u001b[0m \u001b[1;33m=\u001b[0m \u001b[0mint\u001b[0m\u001b[1;33m(\u001b[0m\u001b[0minput\u001b[0m\u001b[1;33m(\u001b[0m\u001b[1;34m\"끝 수를 입력하세요: \"\u001b[0m\u001b[1;33m)\u001b[0m\u001b[1;33m)\u001b[0m\u001b[1;33m\u001b[0m\u001b[1;33m\u001b[0m\u001b[0m\n\u001b[0;32m     10\u001b[0m \u001b[1;33m\u001b[0m\u001b[0m\n\u001b[1;32m---> 11\u001b[1;33m \u001b[0mnax\u001b[0m \u001b[1;33m=\u001b[0m \u001b[0mcompute\u001b[0m\u001b[1;33m(\u001b[0m\u001b[0mnum\u001b[0m\u001b[1;33m)\u001b[0m\u001b[1;33m\u001b[0m\u001b[1;33m\u001b[0m\u001b[0m\n\u001b[0m\u001b[0;32m     12\u001b[0m \u001b[1;33m\u001b[0m\u001b[0m\n\u001b[0;32m     13\u001b[0m \u001b[0mprint\u001b[0m\u001b[1;33m(\u001b[0m\u001b[1;34m'%d'\u001b[0m \u001b[1;33m%\u001b[0m \u001b[0mnax\u001b[0m\u001b[1;33m)\u001b[0m\u001b[1;33m\u001b[0m\u001b[1;33m\u001b[0m\u001b[0m\n",
      "\u001b[1;32m<ipython-input-101-d9207f4d38cf>\u001b[0m in \u001b[0;36mcompute\u001b[1;34m(x)\u001b[0m\n\u001b[0;32m      2\u001b[0m     \u001b[0msum\u001b[0m \u001b[1;33m=\u001b[0m \u001b[1;36m0\u001b[0m\u001b[1;33m\u001b[0m\u001b[1;33m\u001b[0m\u001b[0m\n\u001b[0;32m      3\u001b[0m     \u001b[1;32mfor\u001b[0m \u001b[0mi\u001b[0m \u001b[1;32min\u001b[0m \u001b[0mrange\u001b[0m\u001b[1;33m(\u001b[0m\u001b[1;36m1\u001b[0m\u001b[1;33m,\u001b[0m \u001b[0mx\u001b[0m\u001b[1;33m)\u001b[0m \u001b[1;33m:\u001b[0m\u001b[1;33m\u001b[0m\u001b[1;33m\u001b[0m\u001b[0m\n\u001b[1;32m----> 4\u001b[1;33m         \u001b[1;32mif\u001b[0m \u001b[0mx\u001b[0m \u001b[1;33m%\u001b[0m \u001b[0mi\u001b[0m \u001b[1;33m==\u001b[0m \u001b[1;36m0\u001b[0m \u001b[1;32mand\u001b[0m \u001b[0mi\u001b[0m \u001b[1;33m==\u001b[0m \u001b[0mcompute\u001b[0m\u001b[1;33m(\u001b[0m\u001b[0mx\u001b[0m\u001b[1;33m)\u001b[0m \u001b[1;33m:\u001b[0m\u001b[1;33m\u001b[0m\u001b[1;33m\u001b[0m\u001b[0m\n\u001b[0m\u001b[0;32m      5\u001b[0m             \u001b[0msum\u001b[0m \u001b[1;33m+=\u001b[0m \u001b[0mi\u001b[0m\u001b[1;33m\u001b[0m\u001b[1;33m\u001b[0m\u001b[0m\n\u001b[0;32m      6\u001b[0m     \u001b[1;32mreturn\u001b[0m \u001b[0msum\u001b[0m\u001b[1;33m\u001b[0m\u001b[1;33m\u001b[0m\u001b[0m\n",
      "... last 1 frames repeated, from the frame below ...\n",
      "\u001b[1;32m<ipython-input-101-d9207f4d38cf>\u001b[0m in \u001b[0;36mcompute\u001b[1;34m(x)\u001b[0m\n\u001b[0;32m      2\u001b[0m     \u001b[0msum\u001b[0m \u001b[1;33m=\u001b[0m \u001b[1;36m0\u001b[0m\u001b[1;33m\u001b[0m\u001b[1;33m\u001b[0m\u001b[0m\n\u001b[0;32m      3\u001b[0m     \u001b[1;32mfor\u001b[0m \u001b[0mi\u001b[0m \u001b[1;32min\u001b[0m \u001b[0mrange\u001b[0m\u001b[1;33m(\u001b[0m\u001b[1;36m1\u001b[0m\u001b[1;33m,\u001b[0m \u001b[0mx\u001b[0m\u001b[1;33m)\u001b[0m \u001b[1;33m:\u001b[0m\u001b[1;33m\u001b[0m\u001b[1;33m\u001b[0m\u001b[0m\n\u001b[1;32m----> 4\u001b[1;33m         \u001b[1;32mif\u001b[0m \u001b[0mx\u001b[0m \u001b[1;33m%\u001b[0m \u001b[0mi\u001b[0m \u001b[1;33m==\u001b[0m \u001b[1;36m0\u001b[0m \u001b[1;32mand\u001b[0m \u001b[0mi\u001b[0m \u001b[1;33m==\u001b[0m \u001b[0mcompute\u001b[0m\u001b[1;33m(\u001b[0m\u001b[0mx\u001b[0m\u001b[1;33m)\u001b[0m \u001b[1;33m:\u001b[0m\u001b[1;33m\u001b[0m\u001b[1;33m\u001b[0m\u001b[0m\n\u001b[0m\u001b[0;32m      5\u001b[0m             \u001b[0msum\u001b[0m \u001b[1;33m+=\u001b[0m \u001b[0mi\u001b[0m\u001b[1;33m\u001b[0m\u001b[1;33m\u001b[0m\u001b[0m\n\u001b[0;32m      6\u001b[0m     \u001b[1;32mreturn\u001b[0m \u001b[0msum\u001b[0m\u001b[1;33m\u001b[0m\u001b[1;33m\u001b[0m\u001b[0m\n",
      "\u001b[1;31mRecursionError\u001b[0m: maximum recursion depth exceeded in comparison"
     ]
    }
   ],
   "source": [
    "def compute(x) :\n",
    "    sum = 0\n",
    "    for i in range(1, x) :\n",
    "        if x % i == 0 and i == compute(x) :\n",
    "            sum += i\n",
    "    return sum\n",
    "\n",
    "\n",
    "num = int(input(\"끝 수를 입력하세요: \"))\n",
    "\n",
    "nax = compute(num)\n",
    "\n",
    "print('%d' % nax)"
   ]
  },
  {
   "cell_type": "code",
   "execution_count": 78,
   "metadata": {},
   "outputs": [],
   "source": [
    "# 완전수 구하기 84번까지\n",
    "\n",
    "def sum_yaksu(n) :\n",
    "    sum = 0\n",
    "    for i in range(1, n) :\n",
    "        if n % i == 0 :\n",
    "            sum += i\n",
    "    return sum"
   ]
  },
  {
   "cell_type": "code",
   "execution_count": 79,
   "metadata": {},
   "outputs": [
    {
     "data": {
      "text/plain": [
       "0"
      ]
     },
     "execution_count": 79,
     "metadata": {},
     "output_type": "execute_result"
    }
   ],
   "source": [
    "sum_yaksu(1)"
   ]
  },
  {
   "cell_type": "code",
   "execution_count": 84,
   "metadata": {},
   "outputs": [
    {
     "name": "stdout",
     "output_type": "stream",
     "text": [
      "6\n",
      "28\n",
      "496\n",
      "8128\n"
     ]
    }
   ],
   "source": [
    "for num in range(1, 10001) :\n",
    "    if num == sum_yaksu(num):\n",
    "        print(num)"
   ]
  },
  {
   "cell_type": "code",
   "execution_count": 96,
   "metadata": {},
   "outputs": [
    {
     "name": "stdout",
     "output_type": "stream",
     "text": [
      "25\n",
      "100\n"
     ]
    }
   ],
   "source": [
    "# Q 7-8\n",
    "\n",
    "x = lambda a : a**2\n",
    "\n",
    "print(x(5))\n",
    "print(x(10))"
   ]
  },
  {
   "cell_type": "code",
   "execution_count": 105,
   "metadata": {},
   "outputs": [
    {
     "name": "stdout",
     "output_type": "stream",
     "text": [
      "10\n"
     ]
    },
    {
     "ename": "NameError",
     "evalue": "name 'xx' is not defined",
     "output_type": "error",
     "traceback": [
      "\u001b[1;31m---------------------------------------------------------------------------\u001b[0m",
      "\u001b[1;31mNameError\u001b[0m                                 Traceback (most recent call last)",
      "\u001b[1;32m<ipython-input-105-9e84b5ce5678>\u001b[0m in \u001b[0;36m<module>\u001b[1;34m\u001b[0m\n\u001b[0;32m      6\u001b[0m \u001b[1;33m\u001b[0m\u001b[0m\n\u001b[0;32m      7\u001b[0m \u001b[0mfunc\u001b[0m\u001b[1;33m(\u001b[0m\u001b[1;33m)\u001b[0m\u001b[1;33m\u001b[0m\u001b[1;33m\u001b[0m\u001b[0m\n\u001b[1;32m----> 8\u001b[1;33m \u001b[0mprint\u001b[0m\u001b[1;33m(\u001b[0m\u001b[0mxx\u001b[0m\u001b[1;33m)\u001b[0m\u001b[1;33m\u001b[0m\u001b[1;33m\u001b[0m\u001b[0m\n\u001b[0m",
      "\u001b[1;31mNameError\u001b[0m: name 'xx' is not defined"
     ]
    }
   ],
   "source": [
    "# 7-10 솔직히 11, 13말고 이것만 확실히 알자\n",
    "\n",
    "def func () :\n",
    "    xx = 10\n",
    "    print(xx)\n",
    "    \n",
    "func()\n",
    "print(xx)"
   ]
  },
  {
   "cell_type": "code",
   "execution_count": 110,
   "metadata": {},
   "outputs": [
    {
     "name": "stdout",
     "output_type": "stream",
     "text": [
      "10\n",
      "140721758380720\n",
      "100\n",
      "140721758383600\n"
     ]
    }
   ],
   "source": [
    "# 7-11\n",
    "\n",
    "def func() :\n",
    "    xxx = 100\n",
    "    print(xxx)\n",
    "    print(id(xxx))\n",
    "    \n",
    "xxx = 10\n",
    "print(xxx)\n",
    "print(id(xxx))\n",
    "func()"
   ]
  },
  {
   "cell_type": "code",
   "execution_count": 111,
   "metadata": {},
   "outputs": [
    {
     "name": "stdout",
     "output_type": "stream",
     "text": [
      "10\n",
      "140721758380720\n",
      "100\n",
      "140721758383600\n"
     ]
    }
   ],
   "source": [
    "# 7-13\n",
    "\n",
    "def func() :\n",
    "    global xxx\n",
    "    xxx = 100\n",
    "    print(xxx)\n",
    "    print(id(xxx))\n",
    "    \n",
    "xxx = 10\n",
    "print(xxx)\n",
    "print(id(xxx))\n",
    "func()"
   ]
  },
  {
   "cell_type": "markdown",
   "metadata": {},
   "source": [
    "## File 입출력"
   ]
  },
  {
   "cell_type": "code",
   "execution_count": 1,
   "metadata": {},
   "outputs": [
    {
     "name": "stdout",
     "output_type": "stream",
     "text": [
      "파일 쓰기 완료!\n"
     ]
    }
   ],
   "source": [
    "# 7-14\n",
    "\n",
    "file = open('saample.txt', 'w', encoding='utf8')\n",
    "file.write('안녕하세요. 반갑습니다.')\n",
    "file.close()\n",
    "print('파일 쓰기 완료!')"
   ]
  },
  {
   "cell_type": "code",
   "execution_count": 3,
   "metadata": {},
   "outputs": [
    {
     "name": "stdout",
     "output_type": "stream",
     "text": [
      "김소영 82 80 93 97 93 88\n",
      "정예린 86 100 93 86 90 77\n",
      "이세영 91 88 99 79 92 68\n",
      "정수정 86 100 93 89 92 93\n",
      "박지수 80 100 95 89 90 84\n",
      "\n"
     ]
    }
   ],
   "source": [
    "# 7-15\n",
    "\n",
    "scores = ['김소영 82 80 93 97 93 88',\n",
    "         '정예린 86 100 93 86 90 77',\n",
    "         '이세영 91 88 99 79 92 68',\n",
    "         '정수정 86 100 93 89 92 93',\n",
    "         '박지수 80 100 95 89 90 84']\n",
    "\n",
    "data = ''\n",
    "for item in scores :\n",
    "    data += item +'\\n'\n",
    "    \n",
    "print(data)\n",
    "\n",
    "file = open('scores.txt', 'w', encoding='utf8')\n",
    "file.write(data)\n",
    "file.close()"
   ]
  },
  {
   "cell_type": "code",
   "execution_count": null,
   "metadata": {},
   "outputs": [],
   "source": []
  },
  {
   "cell_type": "code",
   "execution_count": null,
   "metadata": {},
   "outputs": [],
   "source": []
  },
  {
   "cell_type": "code",
   "execution_count": null,
   "metadata": {},
   "outputs": [],
   "source": []
  },
  {
   "cell_type": "code",
   "execution_count": null,
   "metadata": {},
   "outputs": [],
   "source": []
  },
  {
   "cell_type": "code",
   "execution_count": null,
   "metadata": {},
   "outputs": [],
   "source": []
  }
 ],
 "metadata": {
  "kernelspec": {
   "display_name": "Python 3",
   "language": "python",
   "name": "python3"
  },
  "language_info": {
   "codemirror_mode": {
    "name": "ipython",
    "version": 3
   },
   "file_extension": ".py",
   "mimetype": "text/x-python",
   "name": "python",
   "nbconvert_exporter": "python",
   "pygments_lexer": "ipython3",
   "version": "3.7.6"
  }
 },
 "nbformat": 4,
 "nbformat_minor": 4
}
