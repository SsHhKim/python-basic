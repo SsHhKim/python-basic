{
 "cells": [
  {
   "cell_type": "code",
   "execution_count": 1,
   "metadata": {},
   "outputs": [
    {
     "name": "stdout",
     "output_type": "stream",
     "text": [
      "1. 아이디 : kim99, 마일리지: 12000점\n",
      "2. 아이디 : lee66, 마일리지: 11000점\n",
      "3. 아이디 : han55, 마일리지: 3000점\n",
      "4. 아이디 : hong77, 마일리지: 5000점\n",
      "5. 아이디 : hwang33, 마일리지: 18000점\n"
     ]
    }
   ],
   "source": [
    "# 6, 7장 과제\n",
    "\n",
    "\n",
    "n = range(1,6)\n",
    "idpt = {'kim99': 12000, 'lee66': 11000, 'han55': 3000, 'hong77': 5000, 'hwang33': 18000}\n",
    "\n",
    "1.\n",
    "index = 1\n",
    "for i in idpt :\n",
    "    print('%d. 아이디 : %s, 마일리지: %d점' % (index, i, idpt[i]))\n",
    "    index += 1\n",
    "    \n",
    "    \n",
    "\n",
    "\n"
   ]
  },
  {
   "cell_type": "code",
   "execution_count": 54,
   "metadata": {},
   "outputs": [
    {
     "name": "stdout",
     "output_type": "stream",
     "text": [
      "{'kim99': 12000, 'lee66': 11000, 'han55': 3000, 'hong77': 5000, 'hwang33': 18000, 'jang88': 7000}\n",
      "jang88님의 마일리지(7000점)가 추가 되었습니다.\n"
     ]
    }
   ],
   "source": [
    "3.\n",
    "\n",
    "idpt = {'kim99': 12000, 'lee66': 11000, 'han55': 3000, 'hong77': 5000, 'hwang33': 18000}\n",
    "\n",
    "idpt['jang88'] = 7000\n",
    "\n",
    "print(idpt)\n",
    "\n",
    "new = 'jang88'\n",
    "\n",
    "print('%s님의 마일리지(%d점)가 추가 되었습니다.' % (new, idpt['jang88']))"
   ]
  },
  {
   "cell_type": "code",
   "execution_count": 3,
   "metadata": {},
   "outputs": [
    {
     "name": "stdout",
     "output_type": "stream",
     "text": [
      "--------------------------------------------------\n",
      "   월    화    수    목    금    토    일 \n",
      "--------------------------------------------------\n",
      "  25.5  28.3  33.2  32.1  17.3  35.3  33.3"
     ]
    }
   ],
   "source": [
    "5.\n",
    "\n",
    "x = {'월':25.5, '화':28.3, '수':33.2, '목':32.1, '금':17.3, '토':35.3, '일':33.3}\n",
    "print('-' * 50)\n",
    "for i in x :\n",
    "    print('  ',i, end=' ')\n",
    "    \n",
    "print('\\n','-' * 50, sep='')\n",
    "\n",
    "for i in x :\n",
    "    print(' ',x[i], end='')\n",
    "\n",
    "\n"
   ]
  },
  {
   "cell_type": "code",
   "execution_count": 142,
   "metadata": {},
   "outputs": [
    {
     "name": "stdout",
     "output_type": "stream",
     "text": [
      "기온이 30도 이상인 요일 : 수목토일"
     ]
    }
   ],
   "source": [
    "7.\n",
    "x = {'월':25.5, '화':28.3, '수':33.2, '목':32.1, '금':17.3, '토':35.3, '일':33.3}\n",
    "\n",
    "print('기온이 30도 이상인 요일 : ', end='')\n",
    "for i in x :\n",
    "    if x[i] > 30 :\n",
    "        print(i, end='')\n",
    "    "
   ]
  },
  {
   "cell_type": "code",
   "execution_count": 115,
   "metadata": {},
   "outputs": [
    {
     "name": "stdout",
     "output_type": "stream",
     "text": [
      "20,10\n"
     ]
    }
   ],
   "source": [
    "# 8장 문제\n",
    "\n",
    "1.\n",
    "\n",
    "def f1(a) :\n",
    "    a += 10\n",
    "    print(a, end=',')\n",
    "\n",
    "a = 10\n",
    "f1(a)\n",
    "print(a)"
   ]
  },
  {
   "cell_type": "code",
   "execution_count": 165,
   "metadata": {},
   "outputs": [
    {
     "name": "stdout",
     "output_type": "stream",
     "text": [
      "n갑을 입력해 주세요 : 20\n",
      "2 ~  20 까지의 정수 중 소수 :  False\n"
     ]
    }
   ],
   "source": [
    "3.\n",
    "\n",
    "\n",
    "def prime_number(n):\n",
    "    if n == 2:\n",
    "        return True\n",
    "    for i in range(2, n+1):\n",
    "        if n % i == 0:\n",
    "            return False\n",
    "    return True \n",
    "\n",
    "a = int(input('n갑을 입력해 주세요 : '))\n",
    "\n",
    "print('2 ~ ', a, '까지의 정수 중 소수 : ', prime_number(a))\n",
    "\n"
   ]
  },
  {
   "cell_type": "code",
   "execution_count": 129,
   "metadata": {},
   "outputs": [
    {
     "name": "stdout",
     "output_type": "stream",
     "text": [
      "[1, 4, 9, 16, 25]\n"
     ]
    }
   ],
   "source": [
    "5.\n",
    "\n",
    "def numSquare(num):\n",
    "    list_new = []\n",
    "    for i in range(1, num+1):\n",
    "        list_new.append(i**2)\n",
    "        \n",
    "    return list_new\n",
    "\n",
    "n = 5\n",
    "result = numSquare(n)\n",
    "print(result)"
   ]
  },
  {
   "cell_type": "code",
   "execution_count": 168,
   "metadata": {},
   "outputs": [
    {
     "name": "stdout",
     "output_type": "stream",
     "text": [
      "※ 비밀번호는 10자리 이상, 영문 대문자를 포함하여야 합니다.\n",
      "비밀번호 : A123456789\n",
      "비밀번호 확인 : A123456789\n",
      "유효한 비밀번호입니다~~~\n"
     ]
    }
   ],
   "source": [
    "7.\n",
    "\n",
    "admin = ('A123456789')\n",
    "\n",
    "print('※ 비밀번호는 10자리 이상, 영문 대문자를 포함하여야 합니다.')\n",
    "\n",
    "pass1 = input('비밀번호 : ')\n",
    "pass2 = input('비밀번호 확인 : ')\n",
    "\n",
    "if pass1 == admin and pass2 == admin :\n",
    "    print('유효한 비밀번호입니다~~~')\n",
    "elif pass1 != pass2 :\n",
    "    print('비밀번호와 비밀번호 확인이 서로 다릅니다! 다시 입력해 주세요!')\n",
    "else :\n",
    "    print('비밀번호가 잘못되었습니다! 다시 입력해 주세요')\n",
    "\n",
    "                               "
   ]
  },
  {
   "cell_type": "code",
   "execution_count": null,
   "metadata": {},
   "outputs": [],
   "source": []
  },
  {
   "cell_type": "code",
   "execution_count": null,
   "metadata": {},
   "outputs": [],
   "source": []
  }
 ],
 "metadata": {
  "kernelspec": {
   "display_name": "Python 3",
   "language": "python",
   "name": "python3"
  },
  "language_info": {
   "codemirror_mode": {
    "name": "ipython",
    "version": 3
   },
   "file_extension": ".py",
   "mimetype": "text/x-python",
   "name": "python",
   "nbconvert_exporter": "python",
   "pygments_lexer": "ipython3",
   "version": "3.7.6"
  }
 },
 "nbformat": 4,
 "nbformat_minor": 4
}
