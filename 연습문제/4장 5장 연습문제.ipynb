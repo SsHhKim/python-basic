{
 "cells": [
  {
   "cell_type": "code",
   "execution_count": null,
   "metadata": {},
   "outputs": [],
   "source": []
  },
  {
   "cell_type": "code",
   "execution_count": null,
   "metadata": {},
   "outputs": [],
   "source": []
  },
  {
   "cell_type": "code",
   "execution_count": 2,
   "metadata": {},
   "outputs": [
    {
     "name": "stdout",
     "output_type": "stream",
     "text": [
      "* * * * * * * * * * \n",
      "* * * * * * * * * * \n",
      "* * * * * * * * * * \n",
      "* * * * * * * * * * \n",
      "* * * * * * * * * * \n"
     ]
    }
   ],
   "source": [
    "# 4장 연습문제\n",
    "\n",
    "1.\n",
    "\n",
    "for i in range(1, 6) :\n",
    "    print('* ' * 10)"
   ]
  },
  {
   "cell_type": "code",
   "execution_count": 3,
   "metadata": {},
   "outputs": [
    {
     "name": "stdout",
     "output_type": "stream",
     "text": [
      "* * * * * * * * * * \n",
      "* * * * * * * * * * \n",
      "* * * * * * * * * * \n",
      "* * * * * * * * * * \n",
      "* * * * * * * * * * \n"
     ]
    }
   ],
   "source": [
    "2.\n",
    "\n",
    "x = 0\n",
    "while x < 5 :\n",
    "    print('* '* 10)\n",
    "    x += 1"
   ]
  },
  {
   "cell_type": "code",
   "execution_count": 15,
   "metadata": {},
   "outputs": [
    {
     "name": "stdout",
     "output_type": "stream",
     "text": [
      "666666\n",
      "55555\n",
      "4444\n",
      "333\n",
      "22\n",
      "1\n"
     ]
    }
   ],
   "source": [
    "3.\n",
    "\n",
    "for i in range(6, 0, -1) :\n",
    "    print(str(i)*i)\n"
   ]
  },
  {
   "cell_type": "code",
   "execution_count": 5,
   "metadata": {},
   "outputs": [
    {
     "name": "stdout",
     "output_type": "stream",
     "text": [
      "\n",
      "0 \n",
      "0 1 \n",
      "0 1 2 \n",
      "0 1 2 3 \n",
      "0 1 2 3 4 \n",
      "0 1 2 3 4 5 \n"
     ]
    }
   ],
   "source": [
    "4.\n",
    "\n",
    "for i in range(0, 7, 1) :\n",
    "    print(end='')\n",
    "    for k in range(6) :\n",
    "        if k == i:\n",
    "            break;\n",
    "        print(k, end=' ')\n",
    "    print()"
   ]
  },
  {
   "cell_type": "code",
   "execution_count": 6,
   "metadata": {},
   "outputs": [
    {
     "name": "stdout",
     "output_type": "stream",
     "text": [
      "********\n",
      "*      *\n",
      "*      *\n",
      "*      *\n",
      "*      *\n",
      "*      *\n",
      "*      *\n",
      "********\n"
     ]
    }
   ],
   "source": [
    "5.\n",
    "\n",
    "print('*'* 8)\n",
    "\n",
    "for i in range(1,7) :\n",
    "    print('*', ' '*4, '*')\n",
    "    \n",
    "print('*'* 8)"
   ]
  },
  {
   "cell_type": "code",
   "execution_count": 85,
   "metadata": {},
   "outputs": [
    {
     "name": "stdout",
     "output_type": "stream",
     "text": [
      "1 + 3 + 5 + 7 + 9 + 11 + 13 + 15 + 17 + 19 + 21 + 23 + 25 + 27 + 29 + 31 + 33 + 35 + 37 + 39 + 41 + 43 + 45 + 47 + 49 + 51 + 53 + 55 + 57 + 59 + 61 + 63 + 65 + 67 + 69 + 71 + 73 + 75 + 77 + 79 + 81 + 83 + 85 + 87 + 89 + 91 + 93 + 95 + 97 + 99 = 2500\n"
     ]
    }
   ],
   "source": [
    "6.\n",
    "print('1', end='')\n",
    "for a in range(5, 101, 4):\n",
    "    print(' + %d + %d' % (a-2, a), end='')\n",
    "\n",
    "print( ' + 99 = 2500')\n",
    "    \n"
   ]
  },
  {
   "cell_type": "code",
   "execution_count": 8,
   "metadata": {},
   "outputs": [
    {
     "name": "stdout",
     "output_type": "stream",
     "text": [
      "N의 값을 입력하세요 :12\n",
      "N의 값 :12\n",
      "2730\n",
      "4476654\n",
      "377639340\n",
      "9103922100\n",
      "110114023110\n"
     ]
    }
   ],
   "source": [
    "7.\n",
    "sum = 0\n",
    "a = int(input('f'))\n",
    "b = int(input('N의 값 :'))\n",
    "\n",
    "for i in range(2, a, 2):\n",
    "    for k in range(1, a, 2):\n",
    "        sum += i**k\n",
    "    print(sum)"
   ]
  },
  {
   "cell_type": "code",
   "execution_count": 9,
   "metadata": {},
   "outputs": [
    {
     "name": "stdout",
     "output_type": "stream",
     "text": [
      "N 값을 입력해주세요 : 200\n"
     ]
    }
   ],
   "source": [
    "8.\n",
    "\n",
    "a = int(input('N 값을 입력해주세요 : '))\n",
    "\n",
    "i = a\n",
    "\n",
    "count = 0\n",
    "while i < 101 :\n",
    "    if i % 2 != 0 and i%3 != 0 :\n",
    "        print('%d' % i, end='')\n",
    "    i += 1"
   ]
  },
  {
   "cell_type": "code",
   "execution_count": 18,
   "metadata": {},
   "outputs": [
    {
     "name": "stdout",
     "output_type": "stream",
     "text": [
      "--------------------------------------------------\n",
      "   달러($) 원화(원)  유로(€)\n",
      "--------------------------------------------------\n",
      "      10    10800      8.1\n",
      "      20    21600     16.2\n",
      "      30    32400     24.3\n",
      "      40    43200     32.4\n",
      "      50    54000     40.5\n",
      "      60    64800     48.6\n",
      "      70    75600     56.7\n",
      "      80    86400     64.8\n",
      "      90    97200     72.9\n",
      "     100   108000     81.0\n"
     ]
    }
   ],
   "source": [
    "9.\n",
    "\n",
    "print('-' * 50)\n",
    "print('   달러($) 원화(원)  유로(€)')\n",
    "print('-' * 50)\n",
    "\n",
    "a = 1\n",
    "while a < 11 :\n",
    "    b = a*1080\n",
    "    c = a*0.81\n",
    "    print('%8d %8d %8.1f' % (10*a, 10*b, 10*c))\n",
    "    \n",
    "    a += 1\n",
    "    "
   ]
  },
  {
   "cell_type": "code",
   "execution_count": 42,
   "metadata": {},
   "outputs": [
    {
     "name": "stdout",
     "output_type": "stream",
     "text": [
      "--------------------------------------------------\n",
      " cm   mm   m   inch\n",
      "--------------------------------------------------\n",
      "       1       10     0.01     0.39\n",
      "       3       30     0.03     1.18\n",
      "       5       50     0.05     1.97\n",
      "       7       70     0.07     2.76\n",
      "       9       90     0.09     3.54\n",
      "      11      110     0.11     4.33\n",
      "      13      130     0.13     5.12\n",
      "      15      150     0.15     5.91\n",
      "      17      170     0.17     6.69\n",
      "      19      190     0.19     7.48\n",
      "      21      210     0.21     8.27\n",
      "      23      230     0.23     9.06\n",
      "      25      250     0.25     9.84\n",
      "      27      270     0.27    10.63\n",
      "      29      290     0.29    11.42\n",
      "      31      310     0.31    12.20\n",
      "      33      330     0.33    12.99\n",
      "      35      350     0.35    13.78\n",
      "      37      370     0.37    14.57\n",
      "      39      390     0.39    15.35\n",
      "      41      410     0.41    16.14\n",
      "      43      430     0.43    16.93\n",
      "      45      450     0.45    17.72\n",
      "      47      470     0.47    18.50\n",
      "      49      490     0.49    19.29\n",
      "      51      510     0.51    20.08\n",
      "      53      530     0.53    20.87\n",
      "      55      550     0.55    21.65\n",
      "      57      570     0.57    22.44\n",
      "      59      590     0.59    23.23\n",
      "      61      610     0.61    24.02\n",
      "      63      630     0.63    24.80\n",
      "      65      650     0.65    25.59\n",
      "      67      670     0.67    26.38\n",
      "      69      690     0.69    27.17\n",
      "      71      710     0.71    27.95\n",
      "      73      730     0.73    28.74\n",
      "      75      750     0.75    29.53\n",
      "      77      770     0.77    30.31\n",
      "      79      790     0.79    31.10\n",
      "      81      810     0.81    31.89\n",
      "      83      830     0.83    32.68\n",
      "      85      850     0.85    33.46\n",
      "      87      870     0.87    34.25\n",
      "      89      890     0.89    35.04\n",
      "      91      910     0.91    35.83\n",
      "      93      930     0.93    36.61\n",
      "      95      950     0.95    37.40\n",
      "      97      970     0.97    38.19\n",
      "      99      990     0.99    38.98\n"
     ]
    }
   ],
   "source": [
    "10.\n",
    "\n",
    "print('-' * 50)\n",
    "print(' cm   mm   m   inch')\n",
    "print('-' * 50)\n",
    "\n",
    "a = 1\n",
    "while a < 51 :\n",
    "    b = (2*a-1)*10\n",
    "    c = (2*a-1)*0.01\n",
    "    d = (2*a-1)*0.3937\n",
    "    print('%8d %8d %8.2f %8.2f' % (2*a-1, b, c, d))\n",
    "    \n",
    "    a += 1"
   ]
  },
  {
   "cell_type": "code",
   "execution_count": null,
   "metadata": {},
   "outputs": [],
   "source": []
  },
  {
   "cell_type": "code",
   "execution_count": 56,
   "metadata": {},
   "outputs": [
    {
     "name": "stdout",
     "output_type": "stream",
     "text": [
      "10\n"
     ]
    }
   ],
   "source": [
    "# 5장 연습문제\n",
    "\n",
    "1.\n",
    "\n",
    "data = [-12, 3, -9, 5, 8, -2, 0, -8, 3, 10]\n",
    "\n",
    "data.sort()\n",
    "\n",
    "print(data[-1])"
   ]
  },
  {
   "cell_type": "code",
   "execution_count": 57,
   "metadata": {},
   "outputs": [
    {
     "name": "stdout",
     "output_type": "stream",
     "text": [
      "합계 : -4, 평균 : -0.67\n"
     ]
    }
   ],
   "source": [
    "2.\n",
    "\n",
    "\n",
    "data = [-12, 3, -9, 5, 8, -2, 0, -8, 3, 10]\n",
    "\n",
    "sum = 0\n",
    "\n",
    "for i in data :\n",
    "    if i%2 == 0 :\n",
    "        sum += i\n",
    "  \n",
    "    i += 1\n",
    "    \n",
    "avg = sum/6\n",
    "\n",
    "print('합계 : %d, 평균 : %.2f' % (sum, avg))"
   ]
  },
  {
   "cell_type": "code",
   "execution_count": 59,
   "metadata": {},
   "outputs": [
    {
     "name": "stdout",
     "output_type": "stream",
     "text": [
      "[10, 8, 5, 3, 3, 0, -2, -8, -9, -12]\n"
     ]
    }
   ],
   "source": [
    "3.\n",
    "\n",
    "data = [-12, 3, -9, 5, 8, -2, 0, -8, 3, 10]\n",
    "\n",
    "data.sort(reverse=True)\n",
    "print(data)"
   ]
  },
  {
   "cell_type": "code",
   "execution_count": 61,
   "metadata": {},
   "outputs": [
    {
     "name": "stdout",
     "output_type": "stream",
     "text": [
      "[-12, 3, -9, 100, 5, 8, -2, 0, -8, 3, 10]\n"
     ]
    }
   ],
   "source": [
    "4.\n",
    "\n",
    "data = [-12, 3, -9, 5, 8, -2, 0, -8, 3, 10]\n",
    "\n",
    "data.insert(3, 100)\n",
    "print(data)"
   ]
  },
  {
   "cell_type": "code",
   "execution_count": 63,
   "metadata": {},
   "outputs": [
    {
     "name": "stdout",
     "output_type": "stream",
     "text": [
      "[3, -9, 5, 8, -2, 0, -8, 3, 10]\n"
     ]
    }
   ],
   "source": [
    "5.\n",
    "\n",
    "data = [-12, 3, -9, 5, 8, -2, 0, -8, 3, 10]\n",
    "\n",
    "x = data.index(-12)\n",
    "data.pop(x)\n",
    "print(data)"
   ]
  },
  {
   "cell_type": "code",
   "execution_count": 76,
   "metadata": {},
   "outputs": [
    {
     "ename": "SyntaxError",
     "evalue": "invalid syntax (<ipython-input-76-036749896721>, line 18)",
     "output_type": "error",
     "traceback": [
      "\u001b[1;36m  File \u001b[1;32m\"<ipython-input-76-036749896721>\"\u001b[1;36m, line \u001b[1;32m18\u001b[0m\n\u001b[1;33m    else stone[i] >= [2] :\u001b[0m\n\u001b[1;37m             ^\u001b[0m\n\u001b[1;31mSyntaxError\u001b[0m\u001b[1;31m:\u001b[0m invalid syntax\n"
     ]
    }
   ],
   "source": [
    "stone = [[0, 0, 0, 0, 0, 0, 0, 0, 0], \\\n",
    "        [0, 1, 0, 1, 2, 1, 2, 1, 0], \\\n",
    "        [0, 2, 1, 1, 1, 2, 2, 0, 0], \\\n",
    "        [0, 0, 2, 2, 2, 1, 0, 2, 0], \\\n",
    "        [0, 0, 0, 0, 0, 1, 0, 2, 1], \\\n",
    "        [0, 0, 0, 2, 1, 0, 1, 1, 0], \\\n",
    "        [0, 0, 0, 1, 1, 0, 0, 0, 0], \\\n",
    "        [0, 0, 0, 0, 2, 2, 2, 0, 0]]\n",
    "\n",
    "\n",
    "a = 0\n",
    "b = 0\n",
    "\n",
    "i  = 0\n",
    "while i < len(stone) :\n",
    "    if 0 < stone[i] <= [1] :\n",
    "        a = a+1\n",
    "    else stone[i] >= [2] :\n",
    "        b = b+1\n",
    "    \n",
    "    i += 1\n",
    "    \n",
    "print(a, b)"
   ]
  },
  {
   "cell_type": "code",
   "execution_count": 79,
   "metadata": {},
   "outputs": [
    {
     "name": "stdout",
     "output_type": "stream",
     "text": [
      "xxxxxxxxx\n",
      "x●x●○●○●x\n",
      "x○●●●○○xx\n",
      "xx○○○●x○x\n",
      "xxxxx●x○●\n",
      "xxx○●x●●x\n",
      "xxx●●xxxx\n",
      "xxxx○○○xx\n"
     ]
    }
   ],
   "source": [
    "7.\n",
    "\n",
    "stone = [[0, 0, 0, 0, 0, 0, 0, 0, 0], \\\n",
    "        [0, 1, 0, 1, 2, 1, 2, 1, 0], \\\n",
    "        [0, 2, 1, 1, 1, 2, 2, 0, 0], \\\n",
    "        [0, 0, 2, 2, 2, 1, 0, 2, 0], \\\n",
    "        [0, 0, 0, 0, 0, 1, 0, 2, 1], \\\n",
    "        [0, 0, 0, 2, 1, 0, 1, 1, 0], \\\n",
    "        [0, 0, 0, 1, 1, 0, 0, 0, 0], \\\n",
    "        [0, 0, 0, 0, 2, 2, 2, 0, 0]]\n",
    "\n",
    "\n",
    "for i in range(len(stone)) :\n",
    "    for j in range(len(stone[i])) :\n",
    "        if stone[i][j] == 0 :\n",
    "            print('%1s' % 'x', end='')\n",
    "        elif stone[i][j] == 1 :\n",
    "            print('%1s' % '●', end='')\n",
    "        else :\n",
    "            print('%1s' % '○', end='')\n",
    "    print()\n",
    "    \n"
   ]
  },
  {
   "cell_type": "code",
   "execution_count": 95,
   "metadata": {},
   "outputs": [
    {
     "name": "stdout",
     "output_type": "stream",
     "text": [
      "01 02 03 04 05 06 07 08 09 \n",
      "\n",
      " x x x x x x x x x\n",
      " x ● x ● ○ ● ○ ● x\n",
      " x ○ ● ● ● ○ ○ x x\n",
      " x x ○ ○ ○ ● x ○ x\n",
      " x x x x x ● x ○ ●\n",
      " x x x ○ ● x ● ● x\n",
      " x x x ● ● x x x x\n",
      " x x x x ○ ○ ○ x x\n"
     ]
    }
   ],
   "source": [
    "8.\n",
    "\n",
    "for i in range(1, 10) :\n",
    "    print('0%d ' % i, end='')\n",
    "\n",
    "\n",
    "stone = [[0, 0, 0, 0, 0, 0, 0, 0, 0], \\\n",
    "        [0, 1, 0, 1, 2, 1, 2, 1, 0], \\\n",
    "        [0, 2, 1, 1, 1, 2, 2, 0, 0], \\\n",
    "        [0, 0, 2, 2, 2, 1, 0, 2, 0], \\\n",
    "        [0, 0, 0, 0, 0, 1, 0, 2, 1], \\\n",
    "        [0, 0, 0, 2, 1, 0, 1, 1, 0], \\\n",
    "        [0, 0, 0, 1, 1, 0, 0, 0, 0], \\\n",
    "        [0, 0, 0, 0, 2, 2, 2, 0, 0]]\n",
    "\n",
    "\n",
    "print('\\n')\n",
    "\n",
    "for i in range(len(stone)) :\n",
    "    for j in range(len(stone[i])) :\n",
    "        if stone[i][j] == 0 :\n",
    "            print('%2s' % 'x', end='')\n",
    "        elif stone[i][j] == 1 :\n",
    "            print('%2s' % '●', end='')\n",
    "        else :\n",
    "            print('%2s' % '○', end='')\n",
    "    print()\n",
    "    "
   ]
  },
  {
   "cell_type": "code",
   "execution_count": 96,
   "metadata": {},
   "outputs": [
    {
     "name": "stdout",
     "output_type": "stream",
     "text": [
      "X축 좌표값을 입력하세요(1~9, 종료 시 -1 입력) : 9\n",
      "Y축 좌표값을 입력하세요(1~9, 종료 시 -1 입력) : 5\n",
      "X축 좌표값을 입력하세요(1~9, 종료 시 -1 입력) : 7\n",
      "Y축 좌표값을 입력하세요(1~9, 종료 시 -1 입력) : 2\n",
      "X축 좌표값을 입력하세요(1~9, 종료 시 -1 입력) : 4\n",
      "Y축 좌표값을 입력하세요(1~9, 종료 시 -1 입력) : 1\n",
      "186 1233\n"
     ]
    }
   ],
   "source": [
    "9.\n",
    "\n",
    "stone = [[0, 0, 0, 0, 0, 0, 0, 0, 0], \\\n",
    "        [0, 1, 0, 1, 2, 1, 2, 1, 0], \\\n",
    "        [0, 2, 1, 1, 1, 2, 2, 0, 0], \\\n",
    "        [0, 0, 2, 2, 2, 1, 0, 2, 0], \\\n",
    "        [0, 0, 0, 0, 0, 1, 0, 2, 1], \\\n",
    "        [0, 0, 0, 2, 1, 0, 1, 1, 0], \\\n",
    "        [0, 0, 0, 1, 1, 0, 0, 0, 0], \\\n",
    "        [0, 0, 0, 0, 2, 2, 2, 0, 0]]\n",
    "\n",
    "stone = []\n",
    "\n",
    "while True :\n",
    "    stone1 = int(input('X축 좌표값을 입력하세요(1~9, 종료 시 -1 입력) : '))\n",
    "    stone2 = int(input('Y축 좌표값을 입력하세요(1~9, 종료 시 -1 입력) : '))\n",
    "    \n",
    "    if stone1 == +1 :\n",
    "        break\n",
    "    else :\n",
    "        stone.append(stone1)\n",
    "    if stone2 == +1 :\n",
    "        break\n",
    "    else :\n",
    "        stone.append(stone2)\n",
    "    \n",
    "sum = 0\n",
    "for i in range(0, len(stone)) :\n",
    "    a += stone[i]\n",
    "    for j in range(0, len(stone)) :\n",
    "        b += stone[j]\n",
    "        \n",
    "print(a, b)"
   ]
  },
  {
   "cell_type": "code",
   "execution_count": null,
   "metadata": {},
   "outputs": [],
   "source": []
  }
 ],
 "metadata": {
  "kernelspec": {
   "display_name": "Python 3",
   "language": "python",
   "name": "python3"
  },
  "language_info": {
   "codemirror_mode": {
    "name": "ipython",
    "version": 3
   },
   "file_extension": ".py",
   "mimetype": "text/x-python",
   "name": "python",
   "nbconvert_exporter": "python",
   "pygments_lexer": "ipython3",
   "version": "3.7.6"
  }
 },
 "nbformat": 4,
 "nbformat_minor": 4
}
