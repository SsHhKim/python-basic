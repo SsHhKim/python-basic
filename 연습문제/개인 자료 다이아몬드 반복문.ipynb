{
 "cells": [
  {
   "cell_type": "code",
   "execution_count": 1,
   "metadata": {},
   "outputs": [
    {
     "name": "stdout",
     "output_type": "stream",
     "text": [
      "*\n",
      "**\n",
      "***\n",
      "****\n",
      "*****\n",
      "******\n",
      "*******\n",
      "********\n",
      "*********\n",
      "**********\n"
     ]
    }
   ],
   "source": [
    "for i in range(10):\n",
    "    print(\"*\" * (i + 1))"
   ]
  },
  {
   "cell_type": "code",
   "execution_count": 2,
   "metadata": {},
   "outputs": [
    {
     "name": "stdout",
     "output_type": "stream",
     "text": [
      "**********\n",
      "*********\n",
      "********\n",
      "*******\n",
      "******\n",
      "*****\n",
      "****\n",
      "***\n",
      "**\n",
      "*\n"
     ]
    }
   ],
   "source": [
    "for i in range(10):\n",
    "    print(\"*\" * (10 - i))"
   ]
  },
  {
   "cell_type": "code",
   "execution_count": 3,
   "metadata": {},
   "outputs": [
    {
     "name": "stdout",
     "output_type": "stream",
     "text": [
      "*\n",
      "**\n",
      "***\n",
      "****\n",
      "*****\n",
      "******\n",
      "*******\n",
      "********\n",
      "*********\n",
      "**********\n",
      "***********\n",
      "*********\n",
      "********\n",
      "*******\n",
      "******\n",
      "*****\n",
      "****\n",
      "***\n",
      "**\n",
      "*\n"
     ]
    }
   ],
   "source": [
    "for i in range(20):\n",
    "    if i <= 10 :\n",
    "        print(\"*\" * (i +1))\n",
    "    else:\n",
    "        print(\"*\" * (20 - i))"
   ]
  },
  {
   "cell_type": "code",
   "execution_count": 4,
   "metadata": {},
   "outputs": [
    {
     "name": "stdout",
     "output_type": "stream",
     "text": [
      "      \n",
      "     *\n",
      "    ***\n",
      "   *****\n",
      "  *******\n",
      " *********\n",
      "***********\n",
      " *********\n",
      "  *******\n",
      "   *****\n",
      "    ***\n",
      "     *\n"
     ]
    }
   ],
   "source": [
    "m = 11\n",
    "\n",
    "for i in range(m + 1):\n",
    "    if i <= ((m + 1) // 2):\n",
    "        print(\" \" * ((m + 1) // 2 - i) + \"*\" * (i * 2 - 1))\n",
    "    else:\n",
    "        print(\" \" * (i - (m + 1) // 2) + \"*\" * ((m - i) * 2 + 1))"
   ]
  },
  {
   "cell_type": "code",
   "execution_count": 10,
   "metadata": {},
   "outputs": [
    {
     "name": "stdout",
     "output_type": "stream",
     "text": [
      "1  =  1\n",
      "1 + 3  =  4\n",
      "1 + 3 + 6  =  10\n",
      "1 + 3 + 6 + 10  =  20\n",
      "1 + 3 + 6 + 10 + 15  =  35\n",
      "1 + 3 + 6 + 10 + 15 + 21  =  56\n"
     ]
    },
    {
     "data": {
      "text/plain": [
       "56"
      ]
     },
     "execution_count": 10,
     "metadata": {},
     "output_type": "execute_result"
    }
   ],
   "source": [
    "iSum = 0\n",
    "iSum2 = 0\n",
    "n = 10\n",
    "\n",
    "def fSum(n):\n",
    "    iSum2 = 0 \n",
    "    for j in range(n):\n",
    "        iSum = 0\n",
    "        for i in range(j + 1):\n",
    "            iSum = iSum + (i + 1)\n",
    "            if i != j:\n",
    "                print(iSum, end=\" + \")\n",
    "            else :\n",
    "                print(iSum, end=\" \")\n",
    "        iSum2 = iSum2 + iSum\n",
    "        print(\" = \", iSum2)\n",
    "    return iSum2\n",
    "\n",
    "fSum(6)"
   ]
  },
  {
   "cell_type": "code",
   "execution_count": null,
   "metadata": {},
   "outputs": [],
   "source": []
  }
 ],
 "metadata": {
  "kernelspec": {
   "display_name": "Python 3",
   "language": "python",
   "name": "python3"
  },
  "language_info": {
   "codemirror_mode": {
    "name": "ipython",
    "version": 3
   },
   "file_extension": ".py",
   "mimetype": "text/x-python",
   "name": "python",
   "nbconvert_exporter": "python",
   "pygments_lexer": "ipython3",
   "version": "3.7.6"
  }
 },
 "nbformat": 4,
 "nbformat_minor": 4
}
