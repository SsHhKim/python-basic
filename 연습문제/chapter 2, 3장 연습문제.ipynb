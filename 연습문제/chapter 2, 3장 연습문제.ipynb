{
 "cells": [
  {
   "cell_type": "markdown",
   "metadata": {},
   "source": [
    "# chapter 2, 3장 연습문제 과제"
   ]
  },
  {
   "cell_type": "code",
   "execution_count": null,
   "metadata": {},
   "outputs": [],
   "source": [
    "2장 연습 문제\n",
    "1.\n",
    "\n",
    "(1) 숫자 : 정수로 구성된 정수형과 소수점이 있는 실수형 수자를 포함한 모든 숫자이다.\n",
    "    정수형 수자는 음수, 0, 양수로 구성되어 있으며, 실수형 수자는 소수점이 존재하는 숫자를 말한다.\n",
    "\n",
    "(2) 문자열 : 하나 또는 다수의 문자로 구성된 데이터 형으로 숫자와는 달리 해당 문자열 앞 뒤에 단 따옴표(')나 쌍 따옴표(\")를 붙여야 한다.\n",
    "                    "
   ]
  },
  {
   "cell_type": "code",
   "execution_count": 35,
   "metadata": {},
   "outputs": [
    {
     "name": "stdout",
     "output_type": "stream",
     "text": [
      "-72\n"
     ]
    }
   ],
   "source": [
    "2.\n",
    "\n",
    "a = 7\n",
    "b = 10\n",
    "\n",
    "c = a + b * 2\n",
    "c %= 5\n",
    "c **= 3\n",
    "c -= c * 10\n",
    "\n",
    "print(c)"
   ]
  },
  {
   "cell_type": "code",
   "execution_count": 36,
   "metadata": {},
   "outputs": [
    {
     "name": "stdout",
     "output_type": "stream",
     "text": [
      "반지름을 입력하세요 : 10\n",
      "반지름 : 10 cm\n",
      "원의 둘레 : 62.80 cm\n",
      "원의 면적 : 314.00 cm2\n"
     ]
    }
   ],
   "source": [
    "3.\n",
    "\n",
    "x = int(input('반지름을 입력하세요 : '))\n",
    "y = 2*3.14*x\n",
    "z = (x**2)*3.14\n",
    "\n",
    "print('반지름 : %d cm' % x)\n",
    "print('원의 둘레 : %.2f cm' % y)\n",
    "print('원의 면적 : %.2f cm2' % z)"
   ]
  },
  {
   "cell_type": "code",
   "execution_count": 23,
   "metadata": {},
   "outputs": [
    {
     "name": "stdout",
     "output_type": "stream",
     "text": [
      "책 값을 입력하세요 : 15000\n",
      "할인율을 입력하세요(%) : 15\n",
      "배송료를 입력하세요 : 3000\n",
      "결제 금액 : 15750원\n"
     ]
    }
   ],
   "source": [
    "4.\n",
    "\n",
    "x = int(input('책 값을 입력하세요 : '))\n",
    "y = int(input('할인율을 입력하세요(%) : '))\n",
    "z = int(input('배송료를 입력하세요 : '))\n",
    "\n",
    "a = x-(x*y/100)+z\n",
    "\n",
    "b = '결제 금액 : %.f원'% a\n",
    "\n",
    "print(b)"
   ]
  },
  {
   "cell_type": "code",
   "execution_count": 31,
   "metadata": {},
   "outputs": [
    {
     "name": "stdout",
     "output_type": "stream",
     "text": [
      "이름을 입력하세요 : 안지영\n",
      "현재년을 입력하세요 : 2020\n",
      "탄생년을 입력하세요 : 1997\n",
      "안지영님의 나이는 24세 입니다!\n"
     ]
    }
   ],
   "source": [
    "5.\n",
    "\n",
    "x = str(input('이름을 입력하세요 : '))\n",
    "y = int(input('현재년을 입력하세요 : '))\n",
    "z = int(input('탄생년을 입력하세요 : '))\n",
    "a = y-z+1\n",
    "\n",
    "\n",
    "b = x + '님의 나이는 {}세 입니다!'.format(a)\n",
    "\n",
    "print(b)"
   ]
  },
  {
   "cell_type": "code",
   "execution_count": 34,
   "metadata": {},
   "outputs": [
    {
     "name": "stdout",
     "output_type": "stream",
     "text": [
      "연을 입력하세요 : 2020\n",
      "월을 입력하세요 : 1\n",
      "일을 입력하세요 : 5\n",
      "2020-01-05\n"
     ]
    }
   ],
   "source": [
    "6.\n",
    "\n",
    "x=int(input('연을 입력하세요 : '))\n",
    "y=int(input('월을 입력하세요 : '))\n",
    "z=int(input('일을 입력하세요 : '))\n",
    "a = str(x) + '-0' + str(y) + '-0' + str(z)\n",
    "\n",
    "print(a)"
   ]
  },
  {
   "cell_type": "code",
   "execution_count": 3,
   "metadata": {},
   "outputs": [
    {
     "name": "stdout",
     "output_type": "stream",
     "text": [
      "False False False\n",
      "True  False False\n",
      "True  False True\n"
     ]
    }
   ],
   "source": [
    "# 3장 문제\n",
    "\n",
    "1.\n",
    "\n",
    "a, b, c = (2, 5, -3)\n",
    "a1, b1, c1 = (3, 7, -4)\n",
    "a2, b2, c2 = (-10, 10, -2)\n",
    "\n",
    "print(a!=2, not(b>=a), c/2>a*3)\n",
    "print(a1!=2, '', not(b1>=a1), c1/2>a1*3)\n",
    "print(a2!=2, '', not(b2>=a2), c2/2>a2*3)"
   ]
  },
  {
   "cell_type": "code",
   "execution_count": 4,
   "metadata": {},
   "outputs": [
    {
     "name": "stdout",
     "output_type": "stream",
     "text": [
      "False True\n",
      "True  False\n",
      "False True\n"
     ]
    }
   ],
   "source": [
    "2.\n",
    "\n",
    "a, b, c = (-5, 3, 2)\n",
    "a1, b1, c1 = (10, 5, 7)\n",
    "a2, b2, c2 = (-3, 10, 2)\n",
    "\n",
    "print(a>2 or c>b and c>2, not(a>5 or b>c and c>=3))\n",
    "print(a1>2 or c1>b1 and c1>2, '', not(a1>5 or b1>c1 and c1>=3))\n",
    "print(a2>2 or c2>b2 and c2>2, not(a2>5 or b2>c2 and c2>=3))"
   ]
  },
  {
   "cell_type": "code",
   "execution_count": 56,
   "metadata": {},
   "outputs": [
    {
     "name": "stdout",
     "output_type": "stream",
     "text": [
      "4\n"
     ]
    }
   ],
   "source": [
    "3.\n",
    "\n",
    "a = 2\n",
    "z = a*5\n",
    "w = (z-3)*(a-2)/7+10\n",
    "\n",
    "if a>z or w>a :\n",
    "    y = 2*a\n",
    "else :\n",
    "    y= 4*a\n",
    "\n",
    "    \n",
    "print(y)"
   ]
  },
  {
   "cell_type": "code",
   "execution_count": 11,
   "metadata": {},
   "outputs": [
    {
     "name": "stdout",
     "output_type": "stream",
     "text": [
      "단위를 입력하세요(1:섭씨, 2:화씨): 2\n",
      "온도를 입력하세요: 80\n",
      "물의 화씨 온도 : 26.67 상태 : 고체\n"
     ]
    }
   ],
   "source": [
    "4.\n",
    "\n",
    "x = int(input('단위를 입력하세요(1:섭씨, 2:화씨): '))\n",
    "y = int(input('온도를 입력하세요: '))\n",
    "\n",
    "a = (y-32)*5/9\n",
    "\n",
    "if x == 1 and y <= 0 :\n",
    "    print('물의 섭씨 온도 : %d ' % y + '상태 : 고체')\n",
    "elif x == 1 and y >= 100 :\n",
    "    print('물의 섭씨 온도 : %d ' % y + '상태 : 기체')\n",
    "elif x == 1 :\n",
    "    print('물의 섭씨 온도 : %d ' % y + '상태 : 액체')\n",
    "elif x == 2 and a <= 32 :\n",
    "    print('물의 화씨 온도 : %.2f ' % a + '상태 : 고체')\n",
    "elif x == 2 and a >= 212 :\n",
    "    print('물의 화씨 온도 : %.2f ' % a + '상태 : 기체')\n",
    "elif x == 2 :\n",
    "    print('물의 화씨 온도 : %.2f ' % a + '상태 : 액체')\n"
   ]
  },
  {
   "cell_type": "code",
   "execution_count": 7,
   "metadata": {},
   "outputs": [
    {
     "name": "stdout",
     "output_type": "stream",
     "text": [
      "아이디를 입력하세요 : rubato\n",
      "회원 레벨을 입력해 주세요 : 3\n",
      "일부 콘텐츠 이용 가능\n"
     ]
    }
   ],
   "source": [
    "5.\n",
    "\n",
    "x = str(input('아이디를 입력하세요 : '))\n",
    "y = int(input('회원 레벨을 입력해 주세요 : '))\n",
    "\n",
    "if x == 'admin' :\n",
    "    a = '모든 콘텐츠 이용 가능'\n",
    "elif 2<=y<=7 :\n",
    "    a = '일부 콘텐츠 이용 가능'\n",
    "else :\n",
    "    a = '콘텐츠 이용 불가'\n",
    "\n",
    "print(a)"
   ]
  },
  {
   "cell_type": "code",
   "execution_count": 79,
   "metadata": {},
   "outputs": [
    {
     "name": "stdout",
     "output_type": "stream",
     "text": [
      "나이를 입력하세요 :6\n",
      "입장료는 1000원 입니다.\n"
     ]
    }
   ],
   "source": [
    "6.\n",
    "\n",
    "x = int(input('나이를 입력하세요 :'))\n",
    "\n",
    "if x >= 65 :\n",
    "    a = 0\n",
    "elif x <= 10 :\n",
    "    a = 1000\n",
    "else :\n",
    "    a = 2000\n",
    "\n",
    "b = '입장료는 {}원 입니다.'.format(a)\n",
    "    \n",
    "print(b)"
   ]
  },
  {
   "cell_type": "code",
   "execution_count": 80,
   "metadata": {},
   "outputs": [
    {
     "name": "stdout",
     "output_type": "stream",
     "text": [
      "영어시험 점수를 입력하세요 : 85\n",
      "수학시험 점수를 입력하세요 : 75\n",
      "재시험 기회제공\n"
     ]
    }
   ],
   "source": [
    "7.\n",
    "\n",
    "x = int(input('영어시험 점수를 입력하세요 : '))\n",
    "y = int(input('수학시험 점수를 입력하세요 : '))\n",
    "\n",
    "if x >= 80 and y >= 80 :\n",
    "    print('합격')\n",
    "elif x < 80 and y < 80 :\n",
    "    print('불합격')\n",
    "else :\n",
    "    print('재시험 기회제공')\n"
   ]
  }
 ],
 "metadata": {
  "kernelspec": {
   "display_name": "Python 3",
   "language": "python",
   "name": "python3"
  },
  "language_info": {
   "codemirror_mode": {
    "name": "ipython",
    "version": 3
   },
   "file_extension": ".py",
   "mimetype": "text/x-python",
   "name": "python",
   "nbconvert_exporter": "python",
   "pygments_lexer": "ipython3",
   "version": "3.7.6"
  }
 },
 "nbformat": 4,
 "nbformat_minor": 4
}
