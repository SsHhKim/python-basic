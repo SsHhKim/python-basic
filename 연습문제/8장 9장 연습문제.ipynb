{
 "cells": [
  {
   "cell_type": "code",
   "execution_count": 37,
   "metadata": {},
   "outputs": [],
   "source": [
    "# 8장\n",
    "\n",
    "1.\n",
    "\n",
    "def fact(start, end) :\n",
    "    f = 1\n",
    "    for x in range(start, end+1) :\n",
    "        f *= x\n",
    "    return f\n",
    "\n",
    "def inc_10(x) :\n",
    "    x += 10\n",
    "    return x\n",
    "\n",
    "def mul_20(x) :\n",
    "    return x*20\n"
   ]
  },
  {
   "cell_type": "code",
   "execution_count": 40,
   "metadata": {},
   "outputs": [
    {
     "ename": "ImportError",
     "evalue": "cannot import name 'inc_10' from 'lib' (unknown location)",
     "output_type": "error",
     "traceback": [
      "\u001b[1;31m---------------------------------------------------------------------------\u001b[0m",
      "\u001b[1;31mImportError\u001b[0m                               Traceback (most recent call last)",
      "\u001b[1;32m<ipython-input-40-cd697f296c63>\u001b[0m in \u001b[0;36m<module>\u001b[1;34m\u001b[0m\n\u001b[1;32m----> 1\u001b[1;33m \u001b[1;32mfrom\u001b[0m \u001b[0mlib\u001b[0m \u001b[1;32mimport\u001b[0m \u001b[0minc_10\u001b[0m\u001b[1;33m\u001b[0m\u001b[1;33m\u001b[0m\u001b[0m\n\u001b[0m\u001b[0;32m      2\u001b[0m \u001b[1;33m\u001b[0m\u001b[0m\n\u001b[0;32m      3\u001b[0m \u001b[0mprint\u001b[0m\u001b[1;33m(\u001b[0m\u001b[0mlib\u001b[0m\u001b[1;33m.\u001b[0m\u001b[0minc_10\u001b[0m\u001b[1;33m(\u001b[0m\u001b[1;36m5\u001b[0m\u001b[1;33m)\u001b[0m\u001b[1;33m)\u001b[0m\u001b[1;33m\u001b[0m\u001b[1;33m\u001b[0m\u001b[0m\n",
      "\u001b[1;31mImportError\u001b[0m: cannot import name 'inc_10' from 'lib' (unknown location)"
     ]
    }
   ],
   "source": [
    "from lib import inc_10 \n",
    "\n",
    "print(lib.inc_10(5))"
   ]
  },
  {
   "cell_type": "code",
   "execution_count": 24,
   "metadata": {},
   "outputs": [
    {
     "ename": "AttributeError",
     "evalue": "module 'lib' has no attribute 'mul_20'",
     "output_type": "error",
     "traceback": [
      "\u001b[1;31m---------------------------------------------------------------------------\u001b[0m",
      "\u001b[1;31mAttributeError\u001b[0m                            Traceback (most recent call last)",
      "\u001b[1;32m<ipython-input-24-4c7b5172554d>\u001b[0m in \u001b[0;36m<module>\u001b[1;34m\u001b[0m\n\u001b[0;32m      1\u001b[0m \u001b[1;32mimport\u001b[0m \u001b[0mlib\u001b[0m\u001b[1;33m\u001b[0m\u001b[1;33m\u001b[0m\u001b[0m\n\u001b[0;32m      2\u001b[0m \u001b[1;33m\u001b[0m\u001b[0m\n\u001b[1;32m----> 3\u001b[1;33m \u001b[0ma\u001b[0m \u001b[1;33m=\u001b[0m \u001b[0mlib\u001b[0m\u001b[1;33m.\u001b[0m\u001b[0mmul_20\u001b[0m\u001b[1;33m(\u001b[0m\u001b[1;36m3\u001b[0m\u001b[1;33m)\u001b[0m\u001b[1;33m\u001b[0m\u001b[1;33m\u001b[0m\u001b[0m\n\u001b[0m\u001b[0;32m      4\u001b[0m \u001b[0mb\u001b[0m \u001b[1;33m=\u001b[0m \u001b[0ma\u001b[0m \u001b[1;33m+\u001b[0m \u001b[0mlib\u001b[0m\u001b[1;33m.\u001b[0m\u001b[0mfact\u001b[0m\u001b[1;33m(\u001b[0m\u001b[1;36m1\u001b[0m\u001b[1;33m,\u001b[0m\u001b[1;36m3\u001b[0m\u001b[1;33m)\u001b[0m\u001b[1;33m\u001b[0m\u001b[1;33m\u001b[0m\u001b[0m\n\u001b[0;32m      5\u001b[0m \u001b[0mc\u001b[0m \u001b[1;33m=\u001b[0m \u001b[0ma\u001b[0m \u001b[1;33m+\u001b[0m \u001b[0mb\u001b[0m \u001b[1;33m+\u001b[0m \u001b[0mlib\u001b[0m\u001b[1;33m.\u001b[0m\u001b[0minc_10\u001b[0m\u001b[1;33m(\u001b[0m\u001b[1;36m2\u001b[0m\u001b[1;33m)\u001b[0m\u001b[1;33m\u001b[0m\u001b[1;33m\u001b[0m\u001b[0m\n",
      "\u001b[1;31mAttributeError\u001b[0m: module 'lib' has no attribute 'mul_20'"
     ]
    }
   ],
   "source": [
    "import lib\n",
    "\n",
    "a = lib.mul_20(3)\n",
    "b = a + lib.fact(1,3)\n",
    "c = a + b + lib.inc_10(2)\n",
    "\n",
    "print(c)"
   ]
  },
  {
   "cell_type": "code",
   "execution_count": 42,
   "metadata": {},
   "outputs": [
    {
     "name": "stdout",
     "output_type": "stream",
     "text": [
      "abcde\n"
     ]
    }
   ],
   "source": [
    "# 9장\n",
    "\n",
    "1.\n",
    "class TestClass1 :\n",
    "    strings = 'abcde'\n",
    "    \n",
    "print(TestClass1.strings)"
   ]
  },
  {
   "cell_type": "code",
   "execution_count": 51,
   "metadata": {},
   "outputs": [
    {
     "name": "stdout",
     "output_type": "stream",
     "text": [
      "이름:홍길동\n",
      "이메일:test@korea.com\n"
     ]
    }
   ],
   "source": [
    "2.\n",
    "\n",
    "class TestClass2 :\n",
    "    def __init__(self, name, email) :\n",
    "        self.name = name\n",
    "        self.email = email\n",
    "        \n",
    "    def sad(self) :\n",
    "        print('이름:%s\\n이메일:%s' % (self.name, self.email))\n",
    "\n",
    "        \n",
    "test = TestClass2('홍길동', 'test@korea.com')\n",
    "\n",
    "test.sad()"
   ]
  },
  {
   "cell_type": "code",
   "execution_count": 52,
   "metadata": {},
   "outputs": [
    {
     "name": "stdout",
     "output_type": "stream",
     "text": [
      "이름:홍길동\n",
      "이메일:test@korea.com\n"
     ]
    }
   ],
   "source": [
    "3.\n",
    "\n",
    "class TestClass2 :\n",
    "    def __init__(self, name, email) :\n",
    "        self.name = name\n",
    "        self.email = email\n",
    "        \n",
    "    def printInfo(self) :\n",
    "        print('이름:%s\\n이메일:%s' % (self.name, self.email) )\n",
    "\n",
    "test = TestClass2('홍길동', 'test@korea.com')\n",
    "\n",
    "test.printInfo()"
   ]
  },
  {
   "cell_type": "code",
   "execution_count": 54,
   "metadata": {},
   "outputs": [
    {
     "name": "stdout",
     "output_type": "stream",
     "text": [
      "이름:홍길동\n",
      "전화번호:010-1234-4567\n",
      "주소:성남시\n"
     ]
    }
   ],
   "source": [
    "4.\n",
    "\n",
    "class Member :\n",
    "    def __init__(self, name, phone, address) :\n",
    "        self.name = name\n",
    "        self.phone = phone\n",
    "        self.address = address\n",
    "        \n",
    "    def sad(self) :\n",
    "        print('이름:%s\\n전화번호:%s\\n주소:%s' % (self.name, self.phone, self.address) )\n",
    "        \n",
    "test = Member('홍길동', '010-1234-4567', '성남시')\n",
    "\n",
    "test.sad()"
   ]
  },
  {
   "cell_type": "code",
   "execution_count": null,
   "metadata": {},
   "outputs": [],
   "source": []
  }
 ],
 "metadata": {
  "kernelspec": {
   "display_name": "Python 3",
   "language": "python",
   "name": "python3"
  },
  "language_info": {
   "codemirror_mode": {
    "name": "ipython",
    "version": 3
   },
   "file_extension": ".py",
   "mimetype": "text/x-python",
   "name": "python",
   "nbconvert_exporter": "python",
   "pygments_lexer": "ipython3",
   "version": "3.7.6"
  }
 },
 "nbformat": 4,
 "nbformat_minor": 4
}
