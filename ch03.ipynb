{
 "cells": [
  {
   "cell_type": "markdown",
   "metadata": {},
   "source": [
    "# Chapter 03. 조건문"
   ]
  },
  {
   "cell_type": "code",
   "execution_count": 3,
   "metadata": {},
   "outputs": [
    {
     "name": "stdout",
     "output_type": "stream",
     "text": [
      "숫자를 입력하세요. : -1\n",
      "0 또는 음수!\n"
     ]
    }
   ],
   "source": [
    "# 3-1\n",
    "\n",
    "x = int(input('숫자를 입력하세요. : '))\n",
    "\n",
    "if x > 0 :\n",
    "    print('양수!')\n",
    "else :\n",
    "    print('0 또는 음수!')"
   ]
  },
  {
   "cell_type": "code",
   "execution_count": 5,
   "metadata": {},
   "outputs": [
    {
     "name": "stdout",
     "output_type": "stream",
     "text": [
      "숫자를 입력하세요. : 0\n",
      "0!\n"
     ]
    }
   ],
   "source": [
    "\n",
    "x = int(input('숫자를 입력하세요. : '))\n",
    "\n",
    "if x > 0 :\n",
    "    print('양수!')\n",
    "else :\n",
    "    if x < 0 :\n",
    "        print('음수!')\n",
    "    else :\n",
    "        print('0!')\n",
    "        "
   ]
  },
  {
   "cell_type": "code",
   "execution_count": 9,
   "metadata": {},
   "outputs": [
    {
     "name": "stdout",
     "output_type": "stream",
     "text": [
      "x의 값은? : 60\n",
      "true\n"
     ]
    }
   ],
   "source": [
    "x = int(input('x의 값은? : '))\n",
    "\n",
    "if 50 < x and x <= 70:\n",
    "    print('true')"
   ]
  },
  {
   "cell_type": "code",
   "execution_count": 10,
   "metadata": {},
   "outputs": [
    {
     "name": "stdout",
     "output_type": "stream",
     "text": [
      "필기성적을 입력하세요. : 95\n",
      "실기성적을 입력하세요. : 85\n",
      "합격!\n"
     ]
    }
   ],
   "source": [
    "# 3-4\n",
    "\n",
    "score1 = int(input('필기성적을 입력하세요. : '))\n",
    "score2 = int(input('실기성적을 입력하세요. : '))\n",
    "\n",
    "if score1 >= 80 and score2 >= 80 :\n",
    "    print('합격!')\n",
    "else :\n",
    "    print('불합격!')"
   ]
  },
  {
   "cell_type": "code",
   "execution_count": 11,
   "metadata": {},
   "outputs": [
    {
     "name": "stdout",
     "output_type": "stream",
     "text": [
      "이름을 입력하세요. : \n",
      "이름이 입력되지 않았습니다.\n"
     ]
    }
   ],
   "source": [
    "# 3-6\n",
    "\n",
    "name = input('이름을 입력하세요. : ')\n",
    "\n",
    "if not name :\n",
    "    print('이름이 입력되지 않았습니다.')\n",
    "else :\n",
    "    print('이름 : %s' % name)"
   ]
  },
  {
   "cell_type": "code",
   "execution_count": 12,
   "metadata": {},
   "outputs": [
    {
     "name": "stdout",
     "output_type": "stream",
     "text": [
      "이름을 입력하세요. : you\n",
      "이름 : you\n"
     ]
    }
   ],
   "source": [
    "name = input('이름을 입력하세요. : ')\n",
    "\n",
    "if not name :\n",
    "    print('이름이 입력되지 않았습니다.')\n",
    "else :\n",
    "    print('이름 : %s' % name)"
   ]
  },
  {
   "cell_type": "code",
   "execution_count": 15,
   "metadata": {},
   "outputs": [
    {
     "name": "stdout",
     "output_type": "stream",
     "text": [
      "True\n"
     ]
    }
   ],
   "source": [
    "t = 0.12           # 0, 0.0, None 은 False, 그 외는 True\n",
    "\n",
    "if t :\n",
    "    print('True')\n",
    "else :\n",
    "    print('False')"
   ]
  },
  {
   "cell_type": "code",
   "execution_count": 16,
   "metadata": {},
   "outputs": [
    {
     "name": "stdout",
     "output_type": "stream",
     "text": [
      "False\n"
     ]
    }
   ],
   "source": [
    "t = 0              # 0, 0.0, None 은 False, 그 외는 True\n",
    "\n",
    "if t :\n",
    "    print('True')\n",
    "else :\n",
    "    print('False')"
   ]
  },
  {
   "cell_type": "code",
   "execution_count": 17,
   "metadata": {},
   "outputs": [
    {
     "name": "stdout",
     "output_type": "stream",
     "text": [
      "1\n"
     ]
    }
   ],
   "source": [
    "sum = 0\n",
    "sum += True\n",
    "print(sum)"
   ]
  },
  {
   "cell_type": "code",
   "execution_count": 18,
   "metadata": {},
   "outputs": [
    {
     "name": "stdout",
     "output_type": "stream",
     "text": [
      "나이를 입력하세요. : 25\n",
      "입장료 : 3000원\n"
     ]
    }
   ],
   "source": [
    "# 3-8\n",
    "\n",
    "age = int(input('나이를 입력하세요. : '))\n",
    "pay = '3000원'\n",
    "\n",
    "if age >= 65 or age < 7 :\n",
    "    pay = '무료'\n",
    "    \n",
    "print('입장료 : %s' % pay)"
   ]
  },
  {
   "cell_type": "code",
   "execution_count": 27,
   "metadata": {},
   "outputs": [
    {
     "name": "stdout",
     "output_type": "stream",
     "text": [
      "나이를 입력하세요. : 18\n",
      "입장료 : 1500원\n"
     ]
    }
   ],
   "source": [
    "\n",
    "age = int(input('나이를 입력하세요. : '))\n",
    "pay = '3000원'\n",
    "\n",
    "if age >= 65 or age < 7 :\n",
    "    pay = '무료'\n",
    "elif 7 <= age and age <=18 :\n",
    "    pay = '1500원'\n",
    "    \n",
    "print('입장료 : %s' % pay)"
   ]
  },
  {
   "cell_type": "code",
   "execution_count": 28,
   "metadata": {},
   "outputs": [
    {
     "name": "stdout",
     "output_type": "stream",
     "text": [
      "나이를 입력하세요. : 20\n",
      "입장료 : 3000원\n"
     ]
    }
   ],
   "source": [
    "\n",
    "age = int(input('나이를 입력하세요. : '))\n",
    "pay = '3000원'\n",
    "\n",
    "if age >= 65 or age < 7 :\n",
    "    pay = '무료'\n",
    "elif 7 <= age and age <=18 :\n",
    "    pay = '1500원'\n",
    "    \n",
    "print('입장료 : %s' % pay)"
   ]
  },
  {
   "cell_type": "code",
   "execution_count": 29,
   "metadata": {},
   "outputs": [
    {
     "name": "stdout",
     "output_type": "stream",
     "text": [
      "점수를 입력하세요. : 78\n",
      "성적 : 78점\n",
      "등급 : C\n"
     ]
    }
   ],
   "source": [
    "# 3-10\n",
    "\n",
    "score = int(input('점수를 입력하세요. : '))\n",
    "\n",
    "if score >= 90 :\n",
    "    grade = 'A'\n",
    "elif score >= 80 :\n",
    "    grade = 'B'\n",
    "elif score >= 70 :\n",
    "    grade = 'C'\n",
    "elif score >= 60 :\n",
    "    grade = 'D'\n",
    "else :\n",
    "    grade = 'F'\n",
    "    \n",
    "print('성적 : %d점' % score)\n",
    "print('등급 : %s' % grade)"
   ]
  },
  {
   "cell_type": "code",
   "execution_count": null,
   "metadata": {},
   "outputs": [],
   "source": [
    "# 3-11\n",
    "\n",
    "now_year = int(input('현재 연도를 입력해 주세요. : '))\n",
    "now_month = int(input('현재 월을 입력해 주세요. : '))\n",
    "now_day = int(input('현재 일을 입력해 주세요. : '))\n",
    "\n",
    "birth_year = int(input('출생 연도를 입력해 주세요. : '))\n",
    "birth_month = "
   ]
  }
 ],
 "metadata": {
  "kernelspec": {
   "display_name": "Python 3",
   "language": "python",
   "name": "python3"
  },
  "language_info": {
   "codemirror_mode": {
    "name": "ipython",
    "version": 3
   },
   "file_extension": ".py",
   "mimetype": "text/x-python",
   "name": "python",
   "nbconvert_exporter": "python",
   "pygments_lexer": "ipython3",
   "version": "3.7.6"
  }
 },
 "nbformat": 4,
 "nbformat_minor": 4
}
